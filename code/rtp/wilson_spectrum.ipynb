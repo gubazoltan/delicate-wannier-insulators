{
 "cells": [
  {
   "cell_type": "code",
   "execution_count": null,
   "metadata": {},
   "outputs": [],
   "source": [
    "import sympy as sp\n",
    "import numpy as np\n",
    "import matplotlib.pyplot as plt"
   ]
  },
  {
   "cell_type": "code",
   "execution_count": null,
   "metadata": {},
   "outputs": [],
   "source": [
    "def make_values_continuous(nnu_vals):\n",
    "    if len(nnu_vals.shape) == 2:\n",
    "        (N1, N2) = nnu_vals.shape\n",
    "\n",
    "        for k in range(N2):\n",
    "            for i in range(1, N1):\n",
    "                diff = nnu_vals[i, k] - nnu_vals[i - 1, k]\n",
    "                if abs(diff) > 0.5:\n",
    "                    nnu_vals[i, k] -= 1 * np.sign(diff)\n",
    "    else:\n",
    "        N1 = len(nnu_vals)\n",
    "        for i in range(1, N1):\n",
    "            diff = nnu_vals[i] - nnu_vals[i - 1]\n",
    "            if abs(diff) > 0.5:\n",
    "                nnu_vals[i] -= 1 * np.sign(diff)\n",
    "\n",
    "    return nnu_vals"
   ]
  },
  {
   "cell_type": "code",
   "execution_count": null,
   "metadata": {},
   "outputs": [],
   "source": [
    "s0 = sp.eye(2)\n",
    "sx = sp.Matrix([[0, 1], [1, 0]])\n",
    "sy = sp.Matrix([[0, -sp.I], [sp.I, 0]])\n",
    "sz = sp.Matrix([[1, 0], [0, -1]])"
   ]
  },
  {
   "cell_type": "code",
   "execution_count": null,
   "metadata": {},
   "outputs": [],
   "source": [
    "kx_sym, ky_sym = sp.symbols('k_x k_y', real = True)\n",
    "ksymbols = [kx_sym, ky_sym]\n",
    "alpha = sp.symbols('alpha', real = True, positive = True)\n",
    "gamma_z, lambda_z = sp.symbols('gamma_z lambda_z', real = True)"
   ]
  },
  {
   "cell_type": "code",
   "execution_count": null,
   "metadata": {},
   "outputs": [],
   "source": [
    "hrtp = sp.sin(2*kx_sym) * sx\n",
    "hrtp += sp.sin(kx_sym) * sp.sin(ky_sym) * sy\n",
    "hrtp += - (alpha + sp.cos(2*kx_sym) + sp.cos(ky_sym)) * sz "
   ]
  },
  {
   "cell_type": "code",
   "execution_count": null,
   "metadata": {},
   "outputs": [],
   "source": [
    "Nx = 101\n",
    "Ny = 101\n",
    "Nbands = 2\n",
    "Nocc = 1\n",
    "\n",
    "params = {}\n",
    "params[\"Nx\"] = Nx\n",
    "params[\"Ny\"] = Ny\n",
    "params[\"Nz\"] = 0\n",
    "params[\"Nbands\"] = Nbands\n",
    "params[\"Nocc\"] = Nocc"
   ]
  },
  {
   "cell_type": "code",
   "execution_count": null,
   "metadata": {},
   "outputs": [],
   "source": [
    "Kxs = np.linspace(0, 2*np.pi, Nx)\n",
    "Kys = np.linspace(0, 2*np.pi, Ny)"
   ]
  },
  {
   "cell_type": "code",
   "execution_count": null,
   "metadata": {},
   "outputs": [],
   "source": [
    "H_fixparam = hrtp.subs({alpha : 1})\n",
    "hfunc = sp.lambdify((kx_sym,ky_sym), H_fixparam, modules = \"numpy\")"
   ]
  },
  {
   "cell_type": "code",
   "execution_count": null,
   "metadata": {},
   "outputs": [],
   "source": [
    "eigenvalues = np.zeros((Nx,Ny,Nbands))\n",
    "eigenvectors = np.zeros((Nx,Ny,Nbands,Nbands), dtype = complex)\n",
    "\n",
    "for i in range(Nx):\n",
    "    for j in range(Ny):\n",
    "        vals, vecs = np.linalg.eigh(hfunc(Kxs[i], Kys[j]))\n",
    "        \n",
    "        ind = np.argsort(vals)\n",
    "        eigenvalues[i,j,:] = vals[ind]\n",
    "        eigenvectors[i,j,:,:] = vecs[:,ind]"
   ]
  },
  {
   "cell_type": "code",
   "execution_count": null,
   "metadata": {},
   "outputs": [],
   "source": [
    "links_y_occ = np.zeros((Nx,Ny), dtype = np.complex128)\n",
    "links_y_unocc = np.zeros((Nx,Ny), dtype = np.complex128)\n",
    "\n",
    "for i in range(Nx):\n",
    "    for j in range(Ny):\n",
    "        ol_occ = np.dot(eigenvectors[i,(j+1)%Ny,:,0].conj().T, eigenvectors[i,j,:,0])\n",
    "        ol_unocc = np.dot(eigenvectors[i,(j+1)%Ny,:,1].conj().T, eigenvectors[i,j,:,1])\n",
    "\n",
    "        links_y_occ[i,j] = ol_occ/np.abs(ol_occ)\n",
    "        links_y_unocc[i,j] = ol_unocc/np.abs(ol_unocc)\n",
    "\n",
    "wloops_occ = np.ones(Nx, dtype = np.complex128)\n",
    "wloops_unocc = np.ones(Nx, dtype = np.complex128)\n",
    "\n",
    "for i in range(Nx):\n",
    "    for j in range(Ny):\n",
    "        wloops_occ[i] *= links_y_occ[i,j]\n",
    "        wloops_unocc[i] *= links_y_unocc[i,j]"
   ]
  },
  {
   "cell_type": "code",
   "execution_count": null,
   "metadata": {},
   "outputs": [],
   "source": [
    "phase_occ = np.angle(wloops_occ)/(2*np.pi)\n",
    "phase_unocc = np.angle(wloops_unocc)/(2*np.pi)\n",
    "\n",
    "phase_occ = make_values_continuous(phase_occ)\n",
    "phase_unocc = make_values_continuous(phase_unocc)"
   ]
  },
  {
   "cell_type": "code",
   "execution_count": null,
   "metadata": {},
   "outputs": [],
   "source": [
    "fig, axs = plt.subplots(1,1, figsize = (4,3))\n",
    "plt.subplots_adjust(bottom=0.1, right=1)\n",
    "plt.subplots_adjust(wspace=0.5)\n",
    "\n",
    "plt.plot(Kxs,phase_occ, label = \"occ\", lw = 4)\n",
    "plt.plot(Kxs,phase_unocc, label = \"unocc\", lw = 4)\n",
    "\n",
    "plt.xlabel(r\"$k_x$\", fontsize = 16, labelpad = -1)\n",
    "plt.ylabel(r\"$\\nu$\", fontsize = 16, labelpad = -5)\n",
    "plt.xticks([0, np.pi/2, np.pi, 3*np.pi/2, 2*np.pi], [r\"$0$\", r\"$\\pi/2$\", r\"$\\pi$\", r\"$3\\pi/2$\", r\"$2\\pi$\"], fontsize = 14)\n",
    "plt.yticks(fontsize = 14)\n",
    "plt.legend(fontsize = 10, loc = \"lower right\")\n",
    "plt.tight_layout()\n",
    "plt.show()"
   ]
  },
  {
   "cell_type": "code",
   "execution_count": null,
   "metadata": {},
   "outputs": [],
   "source": [
    "def get_U1Gauge(states):\n",
    "    (Nx, Ny, _) = states.shape\n",
    "\n",
    "    U1_gauges = np.zeros(Nx*Ny*2).reshape((Nx,Ny,2)).astype(np.complex128)\n",
    "\n",
    "    for ii in range(Nx):\n",
    "        for jj in range(Ny):\n",
    "            dotprod1 = np.dot(np.conj(states[(ii+1)%Nx,jj,:].T), states[ii,jj,:])\n",
    "            dotprod2 = np.dot(np.conj(states[ii,(jj+1)%Ny,:].T), states[ii,jj,:])\n",
    "\n",
    "            U1_gauges[ii,jj,0] = dotprod1/np.abs(dotprod1)\n",
    "            U1_gauges[ii,jj,1] = dotprod2/np.abs(dotprod2)\n",
    "\n",
    "    return U1_gauges\n",
    "\n",
    "def get_numerical_BerryCurvature(states):\n",
    "    (Nx, Ny, _) = states.shape\n",
    "\n",
    "    U1_gauges = get_U1Gauge(states)\n",
    "    \n",
    "    BerryCurvature = np.zeros(Nx*Ny).reshape((Nx,Ny)).astype(np.complex128)\n",
    "\n",
    "    for ii in range(Nx):\n",
    "        for jj in range(Ny):\n",
    "            BerryCurvature[ii,jj]  = np.log(U1_gauges[ii,jj,0] \n",
    "                                            * U1_gauges[(ii+1)%Nx,jj,1] \n",
    "                                            / U1_gauges[ii,(jj+1)%Ny,0] \n",
    "                                            / U1_gauges[ii,jj,1])\n",
    "            \n",
    "    return BerryCurvature\n",
    "\n",
    "def get_ChernNumber(BerryCurvature, X = None, Y = None):\n",
    "\n",
    "    (Nx, Ny) = BerryCurvature.shape\n",
    "\n",
    "    if X == None:\n",
    "        x1 = 0\n",
    "        x2 = Nx\n",
    "    else:\n",
    "        x1, x2 = X\n",
    "\n",
    "    if Y == None:\n",
    "        y1 = 0\n",
    "        y2 = Ny\n",
    "    else:\n",
    "        y1, y2 = Y\n",
    "\n",
    "    ChernNumber = np.sum(BerryCurvature[x1:x2,y1:y2]) / (2 * np.pi * 1.j)\n",
    "\n",
    "    return ChernNumber"
   ]
  },
  {
   "cell_type": "code",
   "execution_count": null,
   "metadata": {},
   "outputs": [],
   "source": [
    "BerryCurvature = get_numerical_BerryCurvature(eigenvectors[:,:,:,0])\n",
    "ChernNumber = get_ChernNumber(BerryCurvature[:Nx//2,:])\n",
    "print(\"Chern number: \", ChernNumber)"
   ]
  }
 ],
 "metadata": {
  "kernelspec": {
   "display_name": "base",
   "language": "python",
   "name": "python3"
  },
  "language_info": {
   "codemirror_mode": {
    "name": "ipython",
    "version": 3
   },
   "file_extension": ".py",
   "mimetype": "text/x-python",
   "name": "python",
   "nbconvert_exporter": "python",
   "pygments_lexer": "ipython3",
   "version": "3.13.2"
  }
 },
 "nbformat": 4,
 "nbformat_minor": 2
}
