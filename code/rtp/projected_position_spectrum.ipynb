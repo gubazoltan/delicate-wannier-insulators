{
 "cells": [
  {
   "cell_type": "code",
   "execution_count": null,
   "metadata": {},
   "outputs": [],
   "source": [
    "import sympy as sp\n",
    "import numpy as np\n",
    "import matplotlib.pyplot as plt\n",
    "from scipy.optimize import linear_sum_assignment\n",
    "\n",
    "from matplotlib.collections import LineCollection\n",
    "from matplotlib.colors import Normalize"
   ]
  },
  {
   "cell_type": "code",
   "execution_count": null,
   "metadata": {},
   "outputs": [],
   "source": [
    "def get_surface_hamiltonian(h_symbolic, ksymbols, params, direction = \"x\", pert = None):\n",
    "    Nx, Ny, Nbands = params['Nx'], params['Ny'], params['Nbands']\n",
    "    kx_sym, ky_sym = ksymbols\n",
    "\n",
    "    if direction == \"x\":\n",
    "        Lx_nn_pos = sp.integrate(h_symbolic * sp.exp(sp.I * kx_sym * (-1.0)), (kx_sym, -sp.pi, sp.pi))/ (2 * sp.pi)\n",
    "        Lx_nn_neg = sp.integrate(h_symbolic * sp.exp(sp.I * kx_sym), (kx_sym, -sp.pi, sp.pi))/ (2 * sp.pi)\n",
    "        Lx_nnn_pos = sp.integrate(h_symbolic * sp.exp(sp.I * 2 * kx_sym * (-1.0)), (kx_sym, -sp.pi, sp.pi))/ (2 * sp.pi)\n",
    "        Lx_nnn_neg = sp.integrate(h_symbolic * sp.exp(sp.I * 2 * kx_sym), (kx_sym, -sp.pi, sp.pi))/ (2 * sp.pi)\n",
    "\n",
    "        Lx_nn_pos = Lx_nn_pos.rewrite(sp.cos).simplify()\n",
    "        Lx_nn_neg = Lx_nn_neg.rewrite(sp.cos).simplify()\n",
    "        Lx_nnn_pos = Lx_nnn_pos.rewrite(sp.cos).simplify()\n",
    "        Lx_nnn_neg = Lx_nnn_neg.rewrite(sp.cos).simplify()\n",
    "        \n",
    "        H_diag = h_symbolic - (Lx_nn_pos * sp.exp(sp.I * kx_sym) + Lx_nn_neg * sp.exp(-sp.I * kx_sym) + Lx_nnn_pos * sp.exp(sp.I * 2 * kx_sym) + Lx_nnn_neg * sp.exp(-sp.I * 2 * kx_sym))\n",
    "        H_diag = H_diag.rewrite(sp.cos).simplify()\n",
    "        H_diag = sp.nsimplify(H_diag, tolerance = 1e-8)\n",
    "        \n",
    "        h = sp.zeros(Nx*Nbands, Nx*Nbands)\n",
    "\n",
    "        for i in range(Nx):\n",
    "            h[i*Nbands:(i+1)*Nbands, i*Nbands:(i+1)*Nbands] = H_diag[:,:]\n",
    "\n",
    "            if i > 0: \n",
    "                h[(i-1)*Nbands:i*Nbands, i*Nbands:(i+1)*Nbands] = Lx_nn_pos[:,:]\n",
    "\n",
    "                if i > 1:\n",
    "                    h[(i-2)*Nbands:(i-1)*Nbands, i*Nbands:(i+1)*Nbands] = Lx_nnn_pos[:,:]\n",
    "\n",
    "            if i < Nx - 1:\n",
    "                h[(i+1)*Nbands:(i+2)*Nbands, i*Nbands:(i+1)*Nbands] = Lx_nn_neg[:,:]\n",
    "\n",
    "                if i < Nx - 2:\n",
    "                    h[(i+2)*Nbands:(i+3)*Nbands, i*Nbands:(i+1)*Nbands] = Lx_nnn_neg[:,:]\n",
    "\n",
    "        slab_hfunc = sp.lambdify(ky_sym, h, modules = \"numpy\")\n",
    "\n",
    "    elif direction == \"y\": \n",
    "        Ly_nn_pos = sp.integrate(h_symbolic * sp.exp(sp.I * ky_sym * (-1.0)), (ky_sym, -sp.pi, sp.pi))/ (2 * sp.pi)\n",
    "        Ly_nn_neg = sp.integrate(h_symbolic * sp.exp(sp.I * ky_sym), (ky_sym, -sp.pi, sp.pi))/ (2 * sp.pi)\n",
    "        Ly_nnn_pos = sp.integrate(h_symbolic * sp.exp(sp.I * 2 * ky_sym * (-1.0)), (ky_sym, -sp.pi, sp.pi))/ (2 * sp.pi)\n",
    "        Ly_nnn_neg = sp.integrate(h_symbolic * sp.exp(sp.I * 2 * ky_sym), (ky_sym, -sp.pi, sp.pi))/ (2 * sp.pi)\n",
    "\n",
    "        Ly_nn_pos = Ly_nn_pos.rewrite(sp.cos).simplify()\n",
    "        Ly_nn_neg = Ly_nn_neg.rewrite(sp.cos).simplify()\n",
    "        Ly_nnn_pos = Ly_nnn_pos.rewrite(sp.cos).simplify()\n",
    "        Ly_nnn_neg = Ly_nnn_neg.rewrite(sp.cos).simplify()\n",
    "\n",
    "        H_diag = h_symbolic - (Ly_nn_pos * sp.exp(sp.I * ky_sym) + Ly_nn_neg * sp.exp(-sp.I * ky_sym) + Ly_nnn_pos * sp.exp(sp.I * 2 * ky_sym) + Ly_nnn_neg * sp.exp(-sp.I * 2 * ky_sym))\n",
    "        H_diag = H_diag.rewrite(sp.cos).simplify()\n",
    "        H_diag = sp.nsimplify(H_diag, tolerance = 1e-8)\n",
    "        \n",
    "        h = sp.zeros(Ny*Nbands, Ny*Nbands)\n",
    "\n",
    "        for i in range(Ny):\n",
    "            h[i*Nbands:(i+1)*Nbands, i*Nbands:(i+1)*Nbands] = H_diag[:,:]\n",
    "\n",
    "            if i > 0: \n",
    "                h[(i-1)*Nbands:i*Nbands, i*Nbands:(i+1)*Nbands] = Ly_nn_pos[:,:]\n",
    "\n",
    "            if i > 1:\n",
    "                h[(i-2)*Nbands:(i-1)*Nbands, i*Nbands:(i+1)*Nbands] = Ly_nnn_pos[:,:]\n",
    "\n",
    "            if i < Ny - 1:\n",
    "                h[(i+1)*Nbands:(i+2)*Nbands, i*Nbands:(i+1)*Nbands] = Ly_nn_neg[:,:]\n",
    "\n",
    "            if i < Ny - 2:\n",
    "                h[(i+2)*Nbands:(i+3)*Nbands, i*Nbands:(i+1)*Nbands] = Ly_nnn_neg[:,:]\n",
    "\n",
    "        if pert: \n",
    "            sz = sp.Matrix([[1, 0], [0, -1]])\n",
    "            h[0:1*Nbands, 0:1*Nbands] += +(1-sp.cos(kx_sym)) * (sp.eye(Nbands)+sz)\n",
    "            h[(Ny-1)*Nbands:Ny*Nbands, (Ny-1)*Nbands:Ny*Nbands] += -(1-sp.cos(kx_sym)) * (sp.eye(Nbands)-sz)\n",
    "            \n",
    "        slab_hfunc = sp.lambdify(kx_sym, h, modules = \"numpy\")\n",
    "\n",
    "    else:\n",
    "        raise ValueError(\"Invalid direction\")\n",
    "    \n",
    "    return slab_hfunc"
   ]
  },
  {
   "cell_type": "code",
   "execution_count": null,
   "metadata": {},
   "outputs": [],
   "source": [
    "s0 = sp.eye(2)\n",
    "sx = sp.Matrix([[0, 1], [1, 0]])\n",
    "sy = sp.Matrix([[0, -sp.I], [sp.I, 0]])\n",
    "sz = sp.Matrix([[1, 0], [0, -1]])"
   ]
  },
  {
   "cell_type": "code",
   "execution_count": null,
   "metadata": {},
   "outputs": [],
   "source": [
    "kx_sym, ky_sym = sp.symbols('k_x k_y', real = True)\n",
    "ksymbols = [kx_sym, ky_sym]\n",
    "alpha = sp.symbols('alpha', real = True, positive = True)\n",
    "gamma_z, lambda_z = sp.symbols('gamma_z lambda_z', real = True)"
   ]
  },
  {
   "cell_type": "code",
   "execution_count": null,
   "metadata": {},
   "outputs": [],
   "source": [
    "hrtp = sp.sin(2*kx_sym) * sx\n",
    "hrtp += sp.sin(kx_sym) * sp.sin(ky_sym) * sy\n",
    "hrtp += - (alpha + sp.cos(2*kx_sym) + sp.cos(ky_sym)) * sz "
   ]
  },
  {
   "cell_type": "code",
   "execution_count": null,
   "metadata": {},
   "outputs": [],
   "source": [
    "Nx = 100\n",
    "Ny = 21\n",
    "Nbands = 2\n",
    "Nocc = 1\n",
    "\n",
    "params = {}\n",
    "params[\"Nx\"] = Nx\n",
    "params[\"Ny\"] = Ny\n",
    "params[\"Nz\"] = 0\n",
    "params[\"Nbands\"] = Nbands\n",
    "params[\"Nocc\"] = Nocc"
   ]
  },
  {
   "cell_type": "code",
   "execution_count": null,
   "metadata": {},
   "outputs": [],
   "source": [
    "Kxs = np.linspace(0, 2*np.pi, Nx)\n",
    "Kys = np.linspace(0, 2*np.pi, Ny)"
   ]
  },
  {
   "cell_type": "code",
   "execution_count": null,
   "metadata": {},
   "outputs": [],
   "source": [
    "H_fixparam = hrtp.subs({alpha : 1})\n",
    "hfunc = sp.lambdify((kx_sym,ky_sym), H_fixparam, modules = \"numpy\")"
   ]
  },
  {
   "cell_type": "code",
   "execution_count": null,
   "metadata": {},
   "outputs": [],
   "source": [
    "slab_hfunc_Y = get_surface_hamiltonian(h_symbolic = H_fixparam, ksymbols = ksymbols, params = params, direction = \"y\", pert = None)"
   ]
  },
  {
   "cell_type": "code",
   "execution_count": null,
   "metadata": {},
   "outputs": [],
   "source": [
    "eigenvalues_y = np.zeros((Nx,Ny*Nbands))\n",
    "eigenstates_y = np.zeros((Nx,Ny*Nbands,Ny*Nbands), dtype = np.complex128)\n",
    "\n",
    "for idx, kx in enumerate(Kxs):\n",
    "    vals, vecs = np.linalg.eigh(slab_hfunc_Y(kx))\n",
    "\n",
    "    ind = np.argsort(vals)\n",
    "    eigenvalues_y[idx,:] = vals[ind]\n",
    "    eigenstates_y[idx,:,:] = vecs[:,ind]"
   ]
  },
  {
   "cell_type": "code",
   "execution_count": null,
   "metadata": {},
   "outputs": [],
   "source": [
    "#carry out linear sum assignment\n",
    "for i in range(Nx-1):\n",
    "    v0 = eigenstates_y[i,:,:]\n",
    "    v1 = eigenstates_y[i+1,:,:]\n",
    "    vals1 = eigenvalues_y[i+1,:]\n",
    "\n",
    "    Q = abs(v0.conj().T @ v1)\n",
    "    ind = linear_sum_assignment(-Q)[1]\n",
    "\n",
    "    eigenvalues_y[i+1,:] = vals1[ind]\n",
    "    eigenstates_y[i+1,:,:] = v1[:, ind]"
   ]
  },
  {
   "cell_type": "code",
   "execution_count": null,
   "metadata": {},
   "outputs": [],
   "source": [
    "fig = plt.figure(figsize = (4,3))\n",
    "for i in range(Ny*Nbands):\n",
    "    plt.plot(Kxs, eigenvalues_y[:,i], color = \"black\", alpha = 0.2)\n",
    "\n",
    "plt.xlabel(r\"$k_x$\", fontsize = 16, labelpad = 0)\n",
    "plt.ylabel(r\"$E$\", fontsize = 16, labelpad = -2)\n",
    "plt.xticks([0, np.pi/2, np.pi, 3*np.pi/2, 2*np.pi], [r\"$0$\", r\"$\\pi/2$\", r\"$\\pi$\", r\"$3\\pi/2$\", r\"$2\\pi$\"], fontsize = 14)\n",
    "plt.yticks([-2, 0, 2], [-2, 0, 2], fontsize = 14)\n",
    "plt.tight_layout()\n",
    "plt.show()"
   ]
  },
  {
   "cell_type": "code",
   "execution_count": null,
   "metadata": {},
   "outputs": [],
   "source": [
    "slab_hfunc_Y = get_surface_hamiltonian(h_symbolic = H_fixparam, ksymbols = ksymbols, params = params, direction = \"y\", pert = True)"
   ]
  },
  {
   "cell_type": "code",
   "execution_count": null,
   "metadata": {},
   "outputs": [],
   "source": [
    "eigenvalues_y = np.zeros((Nx,Ny*Nbands))\n",
    "eigenstates_y = np.zeros((Nx,Ny*Nbands,Ny*Nbands), dtype = np.complex128)\n",
    "\n",
    "for idx, kx in enumerate(Kxs):\n",
    "    vals, vecs = np.linalg.eigh(slab_hfunc_Y(kx))\n",
    "\n",
    "    ind = np.argsort(vals)\n",
    "    eigenvalues_y[idx,:] = vals[ind]\n",
    "    eigenstates_y[idx,:,:] = vecs[:,ind]"
   ]
  },
  {
   "cell_type": "code",
   "execution_count": null,
   "metadata": {},
   "outputs": [],
   "source": [
    "for i in range(Nx-1):\n",
    "    v0 = eigenstates_y[i,:,:]\n",
    "    v1 = eigenstates_y[i+1,:,:]\n",
    "    vals1 = eigenvalues_y[i+1,:]\n",
    "\n",
    "    Q = abs(v0.conj().T @ v1)\n",
    "    ind = linear_sum_assignment(-Q)[1]\n",
    "\n",
    "    eigenvalues_y[i+1,:] = vals1[ind]\n",
    "    eigenstates_y[i+1,:,:] = v1[:, ind]"
   ]
  },
  {
   "cell_type": "code",
   "execution_count": null,
   "metadata": {},
   "outputs": [],
   "source": [
    "fig = plt.figure(figsize = (4,3))\n",
    "for i in range(Ny*Nbands):\n",
    "    plt.plot(Kxs, eigenvalues_y[:,i], color = \"black\", alpha = 0.2)\n",
    "\n",
    "plt.xlabel(r\"$k_x$\", fontsize = 14)\n",
    "plt.ylabel(r\"$E$\", fontsize = 14)\n",
    "plt.xticks([0, np.pi/2, np.pi, 3*np.pi/2, 2*np.pi], [r\"$0$\", r\"$\\pi/2$\", r\"$\\pi$\", r\"$3\\pi/2$\", r\"$2\\pi$\"], fontsize = 10)\n",
    "plt.yticks([-2, 0, 2], [-2, 0, 2], fontsize = 10)\n",
    "plt.tight_layout()\n",
    "#plt.show()"
   ]
  },
  {
   "cell_type": "code",
   "execution_count": null,
   "metadata": {},
   "outputs": [],
   "source": [
    "Ps = np.zeros((Nx,Ny*Nbands,Ny*Nbands), dtype = np.complex128) #occupied subspace\n",
    "Qs = np.zeros((Nx,Ny*Nbands,Ny*Nbands), dtype = np.complex128) #unoccupied subspace\n",
    "\n",
    "for i in range(Nx):\n",
    "    for j in range(Ny):\n",
    "        Ps[i,:,:] += np.outer(eigenstates_y[i,:,j], eigenstates_y[i,:,j].conj())\n",
    "        Qs[i,:,:] += np.outer(eigenstates_y[i,:,Ny+j], eigenstates_y[i,:,Ny+j].conj())"
   ]
  },
  {
   "cell_type": "code",
   "execution_count": null,
   "metadata": {},
   "outputs": [],
   "source": [
    "yops = np.zeros((Nx, Ny*Nbands,Ny*Nbands))\n",
    "for kx in range(Nx):\n",
    "    for i in range(Ny):\n",
    "        yops[kx,i*Nbands:(i+1)*Nbands,i*Nbands:(i+1)*Nbands] = (i+1) * np.eye(Nbands)\n",
    "    yops[kx,(Ny-1)*Nbands:Ny*Nbands,(Ny-1)*Nbands:Ny*Nbands] -= 0.02 * sz * np.sin(Kxs[kx]/2)"
   ]
  },
  {
   "cell_type": "code",
   "execution_count": null,
   "metadata": {},
   "outputs": [],
   "source": [
    "Projpos = np.zeros((Nx,Ny*Nbands,Ny*Nbands), dtype = np.complex128)\n",
    "Qrojpos = np.zeros((Nx,Ny*Nbands,Ny*Nbands), dtype = np.complex128)\n",
    "for i in range(Nx):\n",
    "    Projpos[i,:,:] = Ps[i,:,:] @ yops[i] @ Ps[i,:,:]\n",
    "    Qrojpos[i,:,:] = Qs[i,:,:] @ yops[i] @ Qs[i,:,:]"
   ]
  },
  {
   "cell_type": "code",
   "execution_count": null,
   "metadata": {},
   "outputs": [],
   "source": [
    "Projpos_eigenvalues = np.zeros((Nx,Ny*Nbands))\n",
    "Projpos_eigenstates = np.zeros((Nx,Ny*Nbands,Ny*Nbands), dtype = np.complex128)\n",
    "\n",
    "for i in range(Nx):\n",
    "    vals, vecs = np.linalg.eigh(Projpos[i,:,:])\n",
    "\n",
    "    ind = np.argsort(vals)\n",
    "    Projpos_eigenvalues[i,:] = vals[ind]\n",
    "    Projpos_eigenstates[i,:,:] = vecs[:,ind]"
   ]
  },
  {
   "cell_type": "code",
   "execution_count": null,
   "metadata": {},
   "outputs": [],
   "source": [
    "Qrojpos_eigenvalues = np.zeros((Nx,Ny*Nbands))\n",
    "Qrojpos_eigenstates = np.zeros((Nx,Ny*Nbands,Ny*Nbands), dtype = np.complex128)\n",
    "\n",
    "for i in range(Nx):\n",
    "    vals, vecs = np.linalg.eigh(Qrojpos[i,:,:])\n",
    "\n",
    "    ind = np.argsort(vals)\n",
    "    Qrojpos_eigenvalues[i,:] = vals[ind]\n",
    "    Qrojpos_eigenstates[i,:,:] = vecs[:,ind]"
   ]
  },
  {
   "cell_type": "code",
   "execution_count": null,
   "metadata": {},
   "outputs": [],
   "source": [
    "slabMz = np.zeros((Ny*Nbands,Ny*Nbands))\n",
    "for i in range(Ny):\n",
    "    slabMz[i*Nbands:(i+1)*Nbands,i*Nbands:(i+1)*Nbands] = sz"
   ]
  },
  {
   "cell_type": "code",
   "execution_count": null,
   "metadata": {},
   "outputs": [],
   "source": [
    "Mz_vals_P = np.zeros((Nx,Ny))\n",
    "Mz_vals_Q = np.zeros((Nx,Ny))\n",
    "\n",
    "for i in range(Nx):\n",
    "    for j in range(Ny):\n",
    "        v = Projpos_eigenstates[i,:,Ny+j]\n",
    "        Mz_vals_P[i,j] = (np.dot(v.conj(), slabMz @ v)).real \n",
    "\n",
    "        v = Qrojpos_eigenstates[i,:,Ny+j] \n",
    "        Mz_vals_Q[i,j] = (np.dot(v.conj(), slabMz @ v)).real"
   ]
  },
  {
   "cell_type": "code",
   "execution_count": null,
   "metadata": {},
   "outputs": [],
   "source": [
    "fig, axs = plt.subplots(figsize=(3.5,3.5))\n",
    "\n",
    "skip = 2\n",
    "x = Kxs[::skip]\n",
    "\n",
    "for j in range(Ny-4,Ny):\n",
    "    y = Projpos_eigenvalues[::skip,Ny+j]\n",
    "    axs.plot(x,y, alpha = 0)\n",
    "    color_values = Mz_vals_P[::skip,j]\n",
    "    points = np.array([x, y]).T.reshape(-1, 1, 2)\n",
    "    segments = np.concatenate([points[:-1], points[1:]], axis=1)\n",
    "    norm = Normalize(vmin=-1, vmax=1)\n",
    "    cmap = plt.get_cmap('viridis')\n",
    "    lc = LineCollection(segments, cmap=cmap, norm=norm, alpha = 1, linewidth = 2)\n",
    "    lc.set_array(color_values)\n",
    "    axs.add_collection(lc)\n",
    "\n",
    "for j in range(Ny-3,Ny):\n",
    "    y = Qrojpos_eigenvalues[::skip,Ny+j]\n",
    "    axs.plot(x,y, alpha = 0)\n",
    "    color_values = Mz_vals_Q[::skip,j]\n",
    "    points = np.array([x, y]).T.reshape(-1, 1, 2)\n",
    "    segments = np.concatenate([points[:-1], points[1:]], axis=1)\n",
    "    norm = Normalize(vmin=-1, vmax=1)\n",
    "    cmap = plt.get_cmap('viridis')\n",
    "    lc = LineCollection(segments[::2], cmap=cmap, norm=norm, alpha = 1, linewidth = 2)\n",
    "    lc.set_array(color_values[::2])\n",
    "    axs.add_collection(lc)\n",
    "\n",
    "axs.set_xlabel(r\"$k_x$\", fontsize = 16, labelpad = 0)\n",
    "axs.set_xticks([0, np.pi/2, np.pi, 3*np.pi/2, 2*np.pi], [r\"$0$\", r\"$\\pi/2$\", r\"$\\pi$\", r\"$3\\pi/2$\", r\"$2\\pi$\"], fontsize = 14)\n",
    "axs.set_ylabel(r\"$y$\", fontsize = 16, labelpad = -7)\n",
    "axs.set_yticks([Ny,Ny-1],[Ny,Ny-1], fontsize = 14)\n",
    "plt.tight_layout()\n",
    "plt.show()"
   ]
  },
  {
   "cell_type": "code",
   "execution_count": null,
   "metadata": {},
   "outputs": [],
   "source": []
  }
 ],
 "metadata": {
  "kernelspec": {
   "display_name": "base",
   "language": "python",
   "name": "python3"
  },
  "language_info": {
   "codemirror_mode": {
    "name": "ipython",
    "version": 3
   },
   "file_extension": ".py",
   "mimetype": "text/x-python",
   "name": "python",
   "nbconvert_exporter": "python",
   "pygments_lexer": "ipython3",
   "version": "3.13.2"
  }
 },
 "nbformat": 4,
 "nbformat_minor": 2
}
