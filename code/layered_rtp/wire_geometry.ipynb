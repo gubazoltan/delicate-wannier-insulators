{
 "cells": [
  {
   "cell_type": "code",
   "execution_count": null,
   "metadata": {},
   "outputs": [],
   "source": [
    "import sympy as sp\n",
    "import numpy as np\n",
    "from sympy.physics.quantum import TensorProduct\n",
    "import matplotlib.pyplot as plt\n",
    "from scipy.optimize import linear_sum_assignment\n",
    "\n",
    "from matplotlib.collections import LineCollection\n",
    "from matplotlib.colors import Normalize"
   ]
  },
  {
   "cell_type": "code",
   "execution_count": null,
   "metadata": {},
   "outputs": [],
   "source": [
    "def indf(j,k):\n",
    "    return j * Nz * Nbands + k * Nbands"
   ]
  },
  {
   "cell_type": "code",
   "execution_count": null,
   "metadata": {},
   "outputs": [],
   "source": [
    "def get_wire_hamiltonian(h_symbolic, syms, params, corner_pert = None):\n",
    "    Ny, Nz, Nbands = params[\"Ny\"], params[\"Nz\"], params[\"Nbands\"]\n",
    "\n",
    "    s0 = sp.eye(2)\n",
    "    sx = sp.Matrix([[0, 1], [1, 0]])\n",
    "    sy = sp.Matrix([[0, -sp.I], [sp.I, 0]])\n",
    "    sz = sp.Matrix([[1, 0], [0, -1]])\n",
    "\n",
    "    kx_sym, ky_sym, kz_sym = syms \n",
    "    \n",
    "    Ly_nn_pos = sp.integrate(h_symbolic * sp.exp(sp.I * ky_sym * (-1.0)), (ky_sym, -sp.pi, sp.pi))/ (2 * sp.pi)\n",
    "    Ly_nn_neg = sp.integrate(h_symbolic * sp.exp(sp.I * ky_sym), (ky_sym, -sp.pi, sp.pi))/ (2 * sp.pi)\n",
    "\n",
    "    Lz_nn_pos = sp.integrate(h_symbolic * sp.exp(sp.I * kz_sym * (-1.0)), (kz_sym, -sp.pi, sp.pi))/ (2 * sp.pi)\n",
    "    Lz_nn_neg = sp.integrate(h_symbolic * sp.exp(sp.I * kz_sym), (kz_sym, -sp.pi, sp.pi))/ (2 * sp.pi)\n",
    "\n",
    "    Ly_nn_pos = Ly_nn_pos.rewrite(sp.cos).simplify()\n",
    "    Ly_nn_neg = Ly_nn_neg.rewrite(sp.cos).simplify()\n",
    "    Lz_nn_pos = Lz_nn_pos.rewrite(sp.cos).simplify()\n",
    "    Lz_nn_neg = Lz_nn_neg.rewrite(sp.cos).simplify()\n",
    "\n",
    "    H_diag = h_symbolic\n",
    "    H_diag -= (Ly_nn_pos * sp.exp(sp.I * ky_sym) + Ly_nn_neg * sp.exp(-sp.I * ky_sym))\n",
    "    H_diag -= (Lz_nn_pos * sp.exp(sp.I * kz_sym) + Lz_nn_neg * sp.exp(-sp.I * kz_sym))\n",
    "    H_diag = H_diag.rewrite(sp.cos).simplify()\n",
    "    H_diag = sp.nsimplify(H_diag, tolerance = 1e-8)\n",
    "\n",
    "    h = sp.zeros(Ny*Nz*Nbands, Ny*Nz*Nbands)\n",
    "\n",
    "    for j in range(Ny):\n",
    "        for k in range(Nz):\n",
    "            h[indf(j,k):indf(j,k+1),indf(j,k):indf(j,k+1)] = H_diag\n",
    "\n",
    "            if j > 0:\n",
    "                h[indf(j-1,k):indf(j-1,k+1), indf(j,k):indf(j,k+1)] = Ly_nn_pos\n",
    "\n",
    "            if j < Ny - 1:\n",
    "                h[indf(j+1,k):indf(j+1,k+1), indf(j,k):indf(j,k+1)] = Ly_nn_neg\n",
    "\n",
    "            if k > 0:\n",
    "                h[indf(j,k-1):indf(j,k), indf(j,k):indf(j,k+1)] = Lz_nn_pos\n",
    "\n",
    "            if k < Nz - 1:\n",
    "                h[indf(j,k+1):indf(j,k+2), indf(j,k):indf(j,k+1)] = Lz_nn_neg\n",
    "\n",
    "    if corner_pert == \"detach\":\n",
    "        h[indf(Ny-1, 0) : indf(Ny-1, 1), indf(Ny-1, 0) : indf(Ny-1, 1)] *= 0.2\n",
    "\n",
    "    if corner_pert == \"gapout\":\n",
    "        mat = TensorProduct(s0, sy)\n",
    "        pert1 = (1 - sp.cos(kx_sym)) * mat * 1\n",
    "        pert2 = (1 + sp.cos(kx_sym)) * mat * 1\n",
    "\n",
    "        h[indf(0,0):indf(0,1), indf(0,0):indf(0,1)] *= 0.2\n",
    "        h[indf(Ny-1,0):indf(Ny-1,1), indf(Ny-1,0):indf(Ny-1,1)]*= 0.2\n",
    "        h[indf(0,Nz-1):indf(0,Nz), indf(0,Nz-1):indf(0,Nz)] *= 0.2\n",
    "        h[indf(Ny-1,Nz-1):indf(Ny-1,Nz), indf(Ny-1,Nz-1):indf(Ny-1,Nz)] *= 0.2\n",
    "\n",
    "        h[indf(0,0):indf(0,1), indf(0,0):indf(0,1)] += pert1\n",
    "        h[indf(Ny-1,0):indf(Ny-1,1), indf(Ny-1,0):indf(Ny-1,1)] += pert2\n",
    "        h[indf(0,Nz-1):indf(0,Nz), indf(0,Nz-1):indf(0,Nz)] += pert2\n",
    "        h[indf(Ny-1,Nz-1):indf(Ny-1,Nz), indf(Ny-1,Nz-1):indf(Ny-1,Nz)] += pert1\n",
    "\n",
    "    wire_hfunc = sp.lambdify(kx_sym, h, modules=\"numpy\")\n",
    "\n",
    "    return wire_hfunc"
   ]
  },
  {
   "cell_type": "code",
   "execution_count": null,
   "metadata": {},
   "outputs": [],
   "source": [
    "kx_sym, ky_sym, kz_sym = sp.symbols('k_x k_y k_z', real = True)\n",
    "ktemp = sp.symbols('ktemp', real = True)\n",
    "ksymbols = [kx_sym, ky_sym, kz_sym]\n",
    "alpha = sp.symbols('alpha', real = True, positive = True)\n",
    "gamma_z, lambda_z = sp.symbols('gamma_z lambda_z', real = True)"
   ]
  },
  {
   "cell_type": "code",
   "execution_count": null,
   "metadata": {},
   "outputs": [],
   "source": [
    "s0 = sp.eye(2)\n",
    "sx = sp.Matrix([[0, 1], [1, 0]])\n",
    "sy = sp.Matrix([[0, -sp.I], [sp.I, 0]])\n",
    "sz = sp.Matrix([[1, 0], [0, -1]])"
   ]
  },
  {
   "cell_type": "code",
   "execution_count": null,
   "metadata": {},
   "outputs": [],
   "source": [
    "hrtp = sp.sin(2*kx_sym) * sx\n",
    "hrtp += sp.sin(kx_sym) * sp.sin(ky_sym) * sy\n",
    "hrtp += - (alpha + sp.cos(2*kx_sym) + sp.cos(ky_sym)) * sz "
   ]
  },
  {
   "cell_type": "code",
   "execution_count": null,
   "metadata": {},
   "outputs": [],
   "source": [
    "H_layered = sp.Matrix(np.zeros((4,4)))\n",
    "H_layered += TensorProduct(sz,hrtp)\n",
    "H_layered += TensorProduct(sy,s0) * lambda_z * sp.sin(kz_sym)\n",
    "H_layered += TensorProduct(sx,s0) * (gamma_z + lambda_z * sp.cos(kz_sym))"
   ]
  },
  {
   "cell_type": "code",
   "execution_count": null,
   "metadata": {},
   "outputs": [],
   "source": [
    "H_layered"
   ]
  },
  {
   "cell_type": "code",
   "execution_count": null,
   "metadata": {},
   "outputs": [],
   "source": [
    "H_hodti_fixalpha = H_layered.subs({alpha : 1.0, gamma_z: 0.5, lambda_z: 1.0})"
   ]
  },
  {
   "cell_type": "code",
   "execution_count": null,
   "metadata": {},
   "outputs": [],
   "source": [
    "Mz = np.array(TensorProduct(s0, sz),dtype = np.complex128)"
   ]
  },
  {
   "cell_type": "code",
   "execution_count": null,
   "metadata": {},
   "outputs": [],
   "source": [
    "Nx = 81\n",
    "Ny = 12\n",
    "Nz = 12\n",
    "Nbands = 4\n",
    "Nocc = 2\n",
    "\n",
    "params = {}\n",
    "params[\"Nx\"] = Nx\n",
    "params[\"Ny\"] = Ny\n",
    "params[\"Nz\"] = Nz\n",
    "params[\"Nbands\"] = Nbands\n",
    "params[\"Nocc\"] = Nocc"
   ]
  },
  {
   "cell_type": "code",
   "execution_count": null,
   "metadata": {},
   "outputs": [],
   "source": [
    "Kxs_wire = np.linspace(0, 2*np.pi, Nx, endpoint = False)"
   ]
  },
  {
   "cell_type": "code",
   "execution_count": null,
   "metadata": {},
   "outputs": [],
   "source": [
    "wire_hfunc = get_wire_hamiltonian(h_symbolic = H_hodti_fixalpha, syms = ksymbols, params = params, corner_pert = None)"
   ]
  },
  {
   "cell_type": "code",
   "execution_count": null,
   "metadata": {},
   "outputs": [],
   "source": [
    "wire_eigenvalues = np.zeros((Nx, Ny*Nz*Nbands))\n",
    "wire_eigenstates = np.zeros((Nx, Ny*Nz*Nbands, Ny*Nz*Nbands)).astype(np.complex128)\n",
    "\n",
    "for i, kx in enumerate(Kxs_wire):\n",
    "    print(\"kx:\", i, kx, end='\\r')\n",
    "    Ham = wire_hfunc(kx).astype(np.complex128)\n",
    "    if np.allclose(Ham, Ham.T.conj()):\n",
    "        pass\n",
    "    else:\n",
    "        print(\"Hamiltonian is not hermitian\")\n",
    "        break\n",
    "    \n",
    "    evals, evecs = np.linalg.eigh(Ham)\n",
    "    sort_ind = np.argsort(evals)\n",
    "    wire_eigenvalues[i,:] = evals[sort_ind]\n",
    "    wire_eigenstates[i,:,:] = evecs[:, sort_ind]"
   ]
  },
  {
   "cell_type": "code",
   "execution_count": null,
   "metadata": {},
   "outputs": [],
   "source": [
    "for i in range(Nx-1):\n",
    "    print(\"kx:\", i, end='\\r')\n",
    "    valsX1 = wire_eigenvalues[i,:]\n",
    "    valsX2 = wire_eigenvalues[i+1,:]\n",
    "    vecsX1 = wire_eigenstates[i,:,:]\n",
    "    vecsX2 = wire_eigenstates[i+1,:,:]\n",
    "\n",
    "    Q = abs(vecsX1.conj().T @ vecsX2)   \n",
    "    ind = linear_sum_assignment(-Q)[1]\n",
    "\n",
    "    wire_eigenvalues[i+1,:] = valsX2[ind]\n",
    "    wire_eigenstates[i+1,:,:] = vecsX2[:, ind]"
   ]
  },
  {
   "cell_type": "code",
   "execution_count": null,
   "metadata": {},
   "outputs": [],
   "source": [
    "fig = plt.figure(figsize=(4,3))\n",
    "for i in range(Ny*Nz*Nbands):\n",
    "    plt.plot(Kxs_wire, wire_eigenvalues[:,i], \"-k\", alpha = 0.15)\n",
    "\n",
    "plt.xlabel(r'$k_x$', fontsize = 16, labelpad = -1)\n",
    "plt.ylabel(r'$E$', fontsize = 16, labelpad = -3)\n",
    "plt.xticks([0, np.pi/2, np.pi, 3*np.pi/2, 2*np.pi], [r\"$0$\", r\"$\\pi/2$\", r\"$\\pi$\", r\"$3\\pi/2$\", r\"$2\\pi$\"], fontsize = 14)\n",
    "plt.yticks([-3, -2, -1, 0, 1, 2, 3], [\"-3\", \"-2\", \"-1\", \"0\", \"1\", \"2\", \"3\"], fontsize = 14)\n",
    "plt.show()"
   ]
  },
  {
   "cell_type": "code",
   "execution_count": null,
   "metadata": {},
   "outputs": [],
   "source": [
    "H_hodti_fixalpha = H_layered.subs({alpha : 1, gamma_z: 0.5, lambda_z: 1.0})"
   ]
  },
  {
   "cell_type": "code",
   "execution_count": null,
   "metadata": {},
   "outputs": [],
   "source": [
    "wire_hfunc = get_wire_hamiltonian(h_symbolic = H_hodti_fixalpha, syms = ksymbols, params = params, corner_pert = \"detach\")"
   ]
  },
  {
   "cell_type": "code",
   "execution_count": null,
   "metadata": {},
   "outputs": [],
   "source": [
    "wire_eigenvalues = np.zeros((Nx, Ny*Nz*Nbands))\n",
    "wire_eigenstates = np.zeros((Nx, Ny*Nz*Nbands, Ny*Nz*Nbands)).astype(np.complex128)\n",
    "\n",
    "for i, kx in enumerate(Kxs_wire):\n",
    "    print(\"kx:\", i, kx, end='\\r')\n",
    "    Ham = wire_hfunc(kx).astype(np.complex128)\n",
    "    if np.allclose(Ham, Ham.T.conj()):\n",
    "        pass\n",
    "    else:\n",
    "        print(\"Hamiltonian is not hermitian\")\n",
    "        break\n",
    "    \n",
    "    evals, evecs = np.linalg.eigh(Ham)\n",
    "    sort_ind = np.argsort(evals)\n",
    "    wire_eigenvalues[i,:] = evals[sort_ind]\n",
    "    wire_eigenstates[i,:,:] = evecs[:, sort_ind]"
   ]
  },
  {
   "cell_type": "code",
   "execution_count": null,
   "metadata": {},
   "outputs": [],
   "source": [
    "for i in range(Nx-1):\n",
    "    print(\"kx:\", i, end='\\r')\n",
    "    valsX1 = wire_eigenvalues[i,:]\n",
    "    valsX2 = wire_eigenvalues[i+1,:]\n",
    "    vecsX1 = wire_eigenstates[i,:,:]\n",
    "    vecsX2 = wire_eigenstates[i+1,:,:]\n",
    "\n",
    "    Q = abs(vecsX1.conj().T @ vecsX2)   \n",
    "    ind = linear_sum_assignment(-Q)[1]\n",
    "\n",
    "    wire_eigenvalues[i+1,:] = valsX2[ind]\n",
    "    wire_eigenstates[i+1,:,:] = vecsX2[:, ind]"
   ]
  },
  {
   "cell_type": "code",
   "execution_count": null,
   "metadata": {},
   "outputs": [],
   "source": [
    "fig = plt.figure(figsize=(4,3))\n",
    "for i in range(Ny*Nz*Nbands):\n",
    "    plt.plot(Kxs_wire, wire_eigenvalues[:,i], \"-k\", alpha = 0.15)\n",
    "\n",
    "plt.plot(Kxs_wire, wire_eigenvalues[:,Ny*Nz*2-1], \"-\", alpha = 1, color = \"red\")\n",
    "\n",
    "plt.xlabel(r'$k_x$', fontsize = 16, labelpad = -5)\n",
    "plt.ylabel(r'$E$', fontsize = 16, labelpad = -10)\n",
    "plt.xticks([0, np.pi/2, np.pi, 3*np.pi/2, 2*np.pi], [r\"$0$\", r\"$\\pi/2$\", r\"$\\pi$\", r\"$3\\pi/2$\", r\"$2\\pi$\"], fontsize = 10)\n",
    "plt.show()"
   ]
  },
  {
   "cell_type": "code",
   "execution_count": null,
   "metadata": {},
   "outputs": [],
   "source": [
    "Mz = np.array(TensorProduct(s0, sz))\n",
    "\n",
    "Mz_wire = np.zeros((Ny*Nz*Nbands, Ny*Nz*Nbands)).astype(np.complex128)\n",
    "\n",
    "for j in range(Ny): \n",
    "    for k in range(Nz):\n",
    "        Mz_wire[indf(j,k):indf(j,k+1), indf(j,k):indf(j,k+1)] = Mz"
   ]
  },
  {
   "cell_type": "code",
   "execution_count": null,
   "metadata": {},
   "outputs": [],
   "source": [
    "Mvals = np.zeros(Nx)\n",
    "for i in range(Nx):\n",
    "    v = wire_eigenstates[i,:,Ny*Nz*2-1]\n",
    "    Mvals[i] = (v.conj().T @ Mz_wire @ v).real\n",
    "\n",
    "fig = plt.figure(figsize=(3,2))\n",
    "plt.plot(Kxs_wire, Mvals)\n",
    "plt.show()"
   ]
  },
  {
   "cell_type": "code",
   "execution_count": null,
   "metadata": {},
   "outputs": [],
   "source": [
    "fig, ax = plt.subplots(figsize=(5,3))\n",
    "\n",
    "for i in range(Ny*Nz*Nbands):\n",
    "    plt.plot(Kxs_wire, wire_eigenvalues[:,i], \"-k\", alpha = 0.15)\n",
    "\n",
    "x = Kxs_wire[::2]\n",
    "y = wire_eigenvalues[:,Ny*Nz*2-1][::2]\n",
    "color_values = Mvals[::2]\n",
    "points = np.array([x, y]).T.reshape(-1, 1, 2)\n",
    "segments = np.concatenate([points[:-1], points[1:]], axis=1)\n",
    "norm = Normalize(vmin=-1, vmax=1)\n",
    "cmap = plt.get_cmap('viridis')\n",
    "lc = LineCollection(segments, cmap=cmap, norm=norm)\n",
    "lc.set_array(color_values)\n",
    "lc.set_linewidth(2)\n",
    "lc.set_alpha(1)\n",
    "ax.add_collection(lc)\n",
    "\n",
    "plt.xlabel(r'$k_x$', fontsize = 16, labelpad = -1)\n",
    "plt.ylabel(r'$E$', fontsize = 16, labelpad = -3)\n",
    "plt.xticks([0, np.pi/2, np.pi, 3*np.pi/2, 2*np.pi], [r\"$0$\", r\"$\\pi/2$\", r\"$\\pi$\", r\"$3\\pi/2$\", r\"$2\\pi$\"], fontsize = 14)\n",
    "plt.yticks([-3, -2, -1, 0, 1, 2, 3], [\"-3\", \"-2\", \"-1\", \"0\", \"1\", \"2\", \"3\"], fontsize = 14)\n",
    "\n",
    "cbar = plt.colorbar(lc, ax=ax)\n",
    "cbar.set_ticks([-1, 1])\n",
    "cbar.set_ticklabels(['-1', '1']) \n",
    "cbar.ax.tick_params(labelsize=14)  \n",
    "cbar.set_label(r'$\\left< M_x \\right> $', rotation=90, labelpad=-12, fontsize = 16)\n",
    "plt.show()"
   ]
  }
 ],
 "metadata": {
  "kernelspec": {
   "display_name": "base",
   "language": "python",
   "name": "python3"
  },
  "language_info": {
   "codemirror_mode": {
    "name": "ipython",
    "version": 3
   },
   "file_extension": ".py",
   "mimetype": "text/x-python",
   "name": "python",
   "nbconvert_exporter": "python",
   "pygments_lexer": "ipython3",
   "version": "3.13.2"
  }
 },
 "nbformat": 4,
 "nbformat_minor": 2
}
