{
 "cells": [
  {
   "cell_type": "code",
   "execution_count": null,
   "metadata": {},
   "outputs": [],
   "source": [
    "import sympy as sp\n",
    "import numpy as np\n",
    "from sympy.physics.quantum import TensorProduct\n",
    "import matplotlib.pyplot as plt\n",
    "from matplotlib import cm\n",
    "import scipy as scp"
   ]
  },
  {
   "cell_type": "code",
   "execution_count": null,
   "metadata": {},
   "outputs": [],
   "source": [
    "def make_values_continuous(nnu_vals):\n",
    "    if len(nnu_vals.shape) == 2:\n",
    "        (N1, N2) = nnu_vals.shape\n",
    "\n",
    "        for k in range(N2):\n",
    "            for i in range(1, N1):\n",
    "                diff = nnu_vals[i, k] - nnu_vals[i - 1, k]\n",
    "                if abs(diff) > 0.5:\n",
    "                    nnu_vals[i, k] -= 1 * np.sign(diff)\n",
    "    else:\n",
    "        N1 = len(nnu_vals)\n",
    "        for i in range(1, N1):\n",
    "            diff = nnu_vals[i] - nnu_vals[i - 1]\n",
    "            if abs(diff) > 0.5:\n",
    "                nnu_vals[i] -= 1 * np.sign(diff)\n",
    "\n",
    "    return nnu_vals"
   ]
  },
  {
   "cell_type": "code",
   "execution_count": null,
   "metadata": {},
   "outputs": [],
   "source": [
    "kx_sym, ky_sym, kz_sym = sp.symbols('k_x k_y k_z', real = True)\n",
    "ktemp = sp.symbols('ktemp', real = True)\n",
    "ksymbols = [kx_sym, ky_sym, kz_sym]\n",
    "alpha = sp.symbols('alpha', real = True, positive = True)\n",
    "gamma_z, lambda_z = sp.symbols('gamma_z lambda_z', real = True)"
   ]
  },
  {
   "cell_type": "code",
   "execution_count": null,
   "metadata": {},
   "outputs": [],
   "source": [
    "s0 = sp.eye(2)\n",
    "sx = sp.Matrix([[0, 1], [1, 0]])\n",
    "sy = sp.Matrix([[0, -sp.I], [sp.I, 0]])\n",
    "sz = sp.Matrix([[1, 0], [0, -1]])"
   ]
  },
  {
   "cell_type": "code",
   "execution_count": null,
   "metadata": {},
   "outputs": [],
   "source": [
    "hrtp = sp.sin(2*kx_sym) * sx\n",
    "hrtp += sp.sin(kx_sym) * sp.sin(ky_sym) * sy\n",
    "hrtp += - (alpha + sp.cos(2*kx_sym) + sp.cos(ky_sym)) * sz "
   ]
  },
  {
   "cell_type": "code",
   "execution_count": null,
   "metadata": {},
   "outputs": [],
   "source": [
    "H_layered = sp.Matrix(np.zeros((4,4)))\n",
    "H_layered += TensorProduct(sz,hrtp)\n",
    "H_layered += TensorProduct(sy,s0) * lambda_z * sp.sin(kz_sym)\n",
    "H_layered += TensorProduct(sx,s0) * (gamma_z + lambda_z * sp.cos(kz_sym))"
   ]
  },
  {
   "cell_type": "code",
   "execution_count": null,
   "metadata": {},
   "outputs": [],
   "source": [
    "H_layered"
   ]
  },
  {
   "cell_type": "code",
   "execution_count": null,
   "metadata": {},
   "outputs": [],
   "source": [
    "Nx = 41\n",
    "Ny = 41\n",
    "Nz = 41\n",
    "Nbands = 4\n",
    "Nocc = 2\n",
    "\n",
    "params = {}\n",
    "params[\"Nx\"] = Nx\n",
    "params[\"Ny\"] = Ny\n",
    "params[\"Nz\"] = Nz\n",
    "params[\"Nbands\"] = Nbands\n",
    "params[\"Nocc\"] = Nocc"
   ]
  },
  {
   "cell_type": "code",
   "execution_count": null,
   "metadata": {},
   "outputs": [],
   "source": [
    "Kxs = np.linspace(0, 2 * np.pi, Nx, endpoint=False) + 1e-10\n",
    "Kys = np.linspace(0, 2 * np.pi, Ny, endpoint=False) + 1e-10\n",
    "Kzs = np.linspace(0, 2 * np.pi, Nz, endpoint=False) + 1e-10"
   ]
  },
  {
   "cell_type": "code",
   "execution_count": null,
   "metadata": {},
   "outputs": [],
   "source": [
    "H_hodti_fixalpha = H_layered.subs({alpha : 1, gamma_z: 0.5, lambda_z: 1.0})"
   ]
  },
  {
   "cell_type": "code",
   "execution_count": null,
   "metadata": {},
   "outputs": [],
   "source": [
    "hfunc = sp.lambdify((kx_sym,ky_sym,kz_sym), H_hodti_fixalpha, modules = \"numpy\")"
   ]
  },
  {
   "cell_type": "code",
   "execution_count": null,
   "metadata": {},
   "outputs": [],
   "source": [
    "eigenvalues = np.zeros((Nx, Ny, Nz, Nbands))\n",
    "eigenvectors = np.zeros((Nx, Ny, Nz, Nbands, Nbands)).astype(np.complex128)\n",
    "\n",
    "for i, kx in enumerate(Kxs):\n",
    "    for j, ky in enumerate(Kys):\n",
    "        for k, kz in enumerate(Kzs):\n",
    "            evals, evecs = np.linalg.eigh(hfunc(kx, ky, kz))\n",
    "\n",
    "            idx = np.argsort(evals)\n",
    "            eigenvalues[i, j, k, :] = evals[idx]\n",
    "            eigenvectors[i, j, k, :, :] = evecs[:, idx]"
   ]
  },
  {
   "cell_type": "code",
   "execution_count": null,
   "metadata": {},
   "outputs": [],
   "source": [
    "links_occ_z = np.zeros((Nx, Ny, Nz, Nocc, Nocc)).astype(np.complex128)\n",
    "\n",
    "for i in range(Nx):\n",
    "    for j in range(Ny):\n",
    "        for k in range(Nz):\n",
    "            overlap_occ = eigenvectors[i, j, (k + 1) % Nz, :, :Nocc].conj().T @ eigenvectors[i, j, k, :, :Nocc]\n",
    "\n",
    "            U_occ, _, Vh_occ = np.linalg.svd(overlap_occ)\n",
    "\n",
    "            links_occ_z[i, j, k, :, :] = U_occ @ Vh_occ"
   ]
  },
  {
   "cell_type": "code",
   "execution_count": null,
   "metadata": {},
   "outputs": [],
   "source": [
    "W_occ_z = np.zeros((Nx, Ny, Nz, Nocc, Nocc)).astype(np.complex128)\n",
    "\n",
    "for i in range(Nx):\n",
    "    for j in range(Ny):\n",
    "        for k in range(Nz):\n",
    "\n",
    "            W = np.eye(Nocc).astype(np.complex128)\n",
    "\n",
    "            for kp in range(Nz):\n",
    "                W = links_occ_z[i, j, (k + kp) % Nz, :, :] @ W\n",
    "\n",
    "            W_occ_z[i, j, k, :, :] = W"
   ]
  },
  {
   "cell_type": "code",
   "execution_count": null,
   "metadata": {},
   "outputs": [],
   "source": [
    "nu_vals_occ_z = np.zeros((Nx, Ny, Nz, Nocc))\n",
    "nu_vecs_occ_z = np.zeros((Nx, Ny, Nz, Nocc, Nocc)).astype(np.complex128)\n",
    "\n",
    "for i in range(Nx):\n",
    "    for j in range(Ny):\n",
    "        for k in range(Nz):\n",
    "            T, Z = scp.linalg.schur(W_occ_z[i, j, k, :, :])\n",
    "            evals = scp.linalg.eigvals(T)\n",
    "            angles = np.angle(evals) / (2 * np.pi)\n",
    "\n",
    "            idx = np.argsort(angles)\n",
    "            nu_vals_occ_z[i, j, k, :] = angles[idx]\n",
    "            nu_vecs_occ_z[i, j, k, :, :] = Z[:, idx]"
   ]
  },
  {
   "cell_type": "code",
   "execution_count": null,
   "metadata": {},
   "outputs": [],
   "source": [
    "fig, ax = plt.subplots(1,1, subplot_kw={\"projection\": \"3d\"}, figsize = (4,3))\n",
    "plt.subplots_adjust(bottom=0.1, right=1, top=2)\n",
    "\n",
    "Xx = np.linspace(0, 2*np.pi, Nx, endpoint=False)\n",
    "Yy = np.linspace(0, 2*np.pi, Ny, endpoint=False)\n",
    "X, Y = np.meshgrid(Xx, Yy)\n",
    "index = 1\n",
    "\n",
    "vmin = np.min([nu_vals_occ_z[:,:,0,0], nu_vals_occ_z[:,:,0,1]])\n",
    "vmax = np.max([nu_vals_occ_z[:,:,0,0], nu_vals_occ_z[:,:,0,1]])\n",
    "\n",
    "surf = ax.plot_surface(X.T, Y.T, nu_vals_occ_z[:,:,index,0], cmap=cm.viridis,  vmin = vmin, vmax = vmax,\n",
    "                          linewidth=0, antialiased=False)\n",
    "surf = ax.plot_surface(X.T, Y.T, nu_vals_occ_z[:,:,index,1], cmap=cm.viridis,  vmin = vmin, vmax = vmax,\n",
    "                          linewidth=0, antialiased=False)\n",
    "\n",
    "ax.set_xlabel(r\"$k_x$\", fontsize = 16, labelpad = 7)\n",
    "ax.set_ylabel(r\"$k_y$\", fontsize = 16, labelpad = 7)\n",
    "\n",
    "ax.set_xticks([0, np.pi/2, np.pi, 3*np.pi/2, 2*np.pi], labels=[\"0\", r\"$\\pi/2$\", r\"$\\pi$\", r\"$3 \\pi /2$\", r\"$2 \\pi$\"], fontsize=14)\n",
    "ax.set_yticks([0, np.pi/2, np.pi, 3*np.pi/2, 2*np.pi], labels=[\"0\", r\"$\\pi/2$\", r\"$\\pi$\", r\"$3 \\pi /2$\", r\"$2 \\pi$\"], fontsize=14)\n",
    "ax.set_zticks([-0.1, -0.05, 0, 0.05, 0.1])\n",
    "ax.set_zticklabels([\"-0.10\", \"-0.05\", \"0.00\", \"0.05\", \"0.10\"], fontsize=14)\n",
    "\n",
    "ax.view_init(elev=10., azim=46)\n",
    "ax.set_title(r\"$\\nu^{occ}_z(k_x, k_y)$\", fontsize = 16, y = 0.9)\n",
    "plt.show()"
   ]
  },
  {
   "cell_type": "code",
   "execution_count": null,
   "metadata": {},
   "outputs": [],
   "source": [
    "wb_occ_z_lower = np.zeros((Nx, Ny, Nz, Nbands)).astype(np.complex128)\n",
    "wb_occ_z_upper = np.zeros((Nx, Ny, Nz, Nbands)).astype(np.complex128)\n",
    "\n",
    "E_ind = 0\n",
    "for i in range(Nx):\n",
    "    for j in range(Ny):\n",
    "        for k in range(Nz):\n",
    "            wb_occ_z_lower[i, j, k, :] = eigenvectors[i, j, k, :, E_ind + 0] * nu_vecs_occ_z[i, j, k, 0, 0] + eigenvectors[i, j, k, :, E_ind + 1] * nu_vecs_occ_z[i, j, k, 1, 0]\n",
    "            wb_occ_z_upper[i, j, k, :] = eigenvectors[i, j, k, :, E_ind + 0] * nu_vecs_occ_z[i, j, k, 0, 1] + eigenvectors[i, j, k, :, E_ind + 1] * nu_vecs_occ_z[i, j, k, 1, 1]\n"
   ]
  },
  {
   "cell_type": "code",
   "execution_count": null,
   "metadata": {},
   "outputs": [],
   "source": [
    "Mz = np.array(TensorProduct(s0, sz),dtype = np.complex128)"
   ]
  },
  {
   "cell_type": "code",
   "execution_count": null,
   "metadata": {},
   "outputs": [],
   "source": [
    "mirror_vals_z = np.zeros((Nx,Ny,2))\n",
    "for i in range(Nx):\n",
    "    for j in range(Ny):\n",
    "        mirror_vals_z[i,j,0] = (wb_occ_z_lower[i,j,0,:].conj().T @ Mz @ wb_occ_z_lower[i,j,0,:]).real\n",
    "        mirror_vals_z[i,j,1] = (wb_occ_z_upper[i,j,0,:].conj().T @ Mz @ wb_occ_z_upper[i,j,0,:]).real"
   ]
  },
  {
   "cell_type": "code",
   "execution_count": null,
   "metadata": {},
   "outputs": [],
   "source": [
    "fig = plt.figure(figsize = (4,3))\n",
    "plt.imshow(mirror_vals_z[:,:,0].T, origin = \"lower\", cmap = \"viridis\", vmin = -1, vmax = 1, extent = [0, 2*np.pi, 0, 2*np.pi])\n",
    "cbar = plt.colorbar()\n",
    "cbar.set_ticks([-1, 1])\n",
    "cbar.set_ticklabels(['-1', '1'], fontsize = 12) \n",
    "cbar.set_label(r'$\\left< M_x \\right> $', rotation=90, labelpad=-10, fontsize = 16)\n",
    "plt.xlabel(r\"$k_x$\", fontsize = 16, labelpad = -2)\n",
    "plt.ylabel(r\"$k_y$\", fontsize = 16, labelpad = -12)\n",
    "plt.xticks([0, np.pi/2, np.pi, 3*np.pi/2, 2*np.pi],[\"0\", r\"$\\pi/2$\" ,r\"$\\pi$\", r\"$3 \\pi /2 $\", r\"$2 \\pi$\"], fontsize = 14)\n",
    "plt.yticks([0, np.pi/2, np.pi, 3*np.pi/2, 2*np.pi],[\"0\", r\"$\\pi/2$\" ,r\"$\\pi$\", r\"$3 \\pi /2 $\", r\"$2 \\pi$\"], fontsize = 14)\n",
    "plt.show()"
   ]
  },
  {
   "cell_type": "code",
   "execution_count": null,
   "metadata": {},
   "outputs": [],
   "source": [
    "nnuvals_occ_lower_zy = np.zeros((Nx, Nz))\n",
    "nnuvals_occ_upper_zy = np.zeros((Nx, Nz))\n",
    "\n",
    "for i in range(Nx):\n",
    "    for k in range(Nz):\n",
    "        W_lower = 1.0\n",
    "        W_upper = 1.0\n",
    "\n",
    "        for j in range(Ny):\n",
    "            overlap_lower = wb_occ_z_lower[i, (j + 1) % Ny, k, :].conj().T  @ wb_occ_z_lower[i, j, k, :]\n",
    "            overlap_upper = wb_occ_z_upper[i, (j + 1) % Ny, k, :].conj().T  @ wb_occ_z_upper[i, j, k, :]\n",
    "\n",
    "            W_lower = overlap_lower * W_lower / np.abs(overlap_lower)\n",
    "            W_upper = overlap_upper * W_upper / np.abs(overlap_upper)\n",
    "\n",
    "        nnuvals_occ_lower_zy[i, k] = np.angle(W_lower) / (2 * np.pi)\n",
    "        nnuvals_occ_upper_zy[i, k] = np.angle(W_upper) / (2 * np.pi)"
   ]
  },
  {
   "cell_type": "code",
   "execution_count": null,
   "metadata": {},
   "outputs": [],
   "source": [
    "for k in range(Nz):\n",
    "    nnuvals_occ_lower_zy[:,k] = make_values_continuous(nnuvals_occ_lower_zy[:,k])\n",
    "    nnuvals_occ_upper_zy[:,k] = make_values_continuous(nnuvals_occ_upper_zy[:,k])"
   ]
  },
  {
   "cell_type": "code",
   "execution_count": null,
   "metadata": {},
   "outputs": [],
   "source": [
    "Kxs = np.linspace(0, 2*np.pi, Nx, endpoint = False)\n",
    "\n",
    "fig, axs = plt.subplots(1,1, figsize = (4,3))\n",
    "plt.subplots_adjust(bottom=0.1, right=1)\n",
    "plt.subplots_adjust(wspace=0.5)\n",
    "\n",
    "pd_lower_zy = np.array([np.sum(nnuvals_occ_lower_zy[i,:])/Nz for i in range(Nx)])\n",
    "pd_upper_zy = np.array([np.sum(nnuvals_occ_upper_zy[i,:])/Nz for i in range(Nx)])\n",
    "\n",
    "axs.plot(Kxs, pd_lower_zy, \"-\", label = r\"$\\nu^{\\nu^{-}_z}_y$\",  lw = 4)\n",
    "axs.plot(Kxs, pd_upper_zy, \"-\", label = r\"$\\nu^{\\nu^{+}_z}_y$\", lw = 4)\n",
    "\n",
    "axs.set_xlabel(r\"$k_x$\", fontsize = 16, labelpad = -3)\n",
    "axs.set_ylabel(r\"$\\nu^{\\nu_z}_{y}$\", fontsize = 16, labelpad = -5)\n",
    "axs.set_xticks([0, np.pi/2, np.pi, 3*np.pi/2, 2*np.pi], [\"0\", r\"$\\pi/2$\", r\"$\\pi$\", r\"$3 \\pi/2$\", r\"$2\\pi$\"], fontsize = 14)\n",
    "axs.set_yticks([-1, 0, 1], [\"-1\", \"0\", \"1\"], fontsize = 14)\n",
    "\n",
    "plt.legend(fontsize = 14, loc = \"upper right\")\n",
    "plt.show()"
   ]
  },
  {
   "cell_type": "code",
   "execution_count": null,
   "metadata": {},
   "outputs": [],
   "source": []
  }
 ],
 "metadata": {
  "kernelspec": {
   "display_name": "base",
   "language": "python",
   "name": "python3"
  },
  "language_info": {
   "codemirror_mode": {
    "name": "ipython",
    "version": 3
   },
   "file_extension": ".py",
   "mimetype": "text/x-python",
   "name": "python",
   "nbconvert_exporter": "python",
   "pygments_lexer": "ipython3",
   "version": "3.13.2"
  }
 },
 "nbformat": 4,
 "nbformat_minor": 2
}
