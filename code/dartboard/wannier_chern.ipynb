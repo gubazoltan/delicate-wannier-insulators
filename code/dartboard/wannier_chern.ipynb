{
 "cells": [
  {
   "cell_type": "code",
   "execution_count": null,
   "metadata": {},
   "outputs": [],
   "source": [
    "import sympy as sp\n",
    "import numpy as np\n",
    "from sympy.physics.quantum import TensorProduct"
   ]
  },
  {
   "cell_type": "code",
   "execution_count": null,
   "metadata": {},
   "outputs": [],
   "source": [
    "def get_U1Gauge(states):\n",
    "    #calculate the U1_gauges with the wannier states\n",
    "    \n",
    "    #get the shape of the data\n",
    "    (Nx, Ny, _) = states.shape\n",
    "\n",
    "    #create container for the U1 gauges\n",
    "    U1_gauges = np.zeros(Nx*Ny*2).reshape((Nx,Ny,2)).astype(np.complex128)\n",
    "\n",
    "    #iterate through the Brillouin zone\n",
    "    for ii in range(Nx):\n",
    "        for jj in range(Ny):\n",
    "            #calculate the overlap between neighbouring Wannier states in the x and y direction\n",
    "            dotprod1 = np.dot(np.conj(states[(ii+1)%Nx,jj,:].T), states[ii,jj,:])\n",
    "            dotprod2 = np.dot(np.conj(states[ii,(jj+1)%Ny,:].T), states[ii,jj,:])\n",
    "\n",
    "            #store the U1 gauges\n",
    "            U1_gauges[ii,jj,0] = dotprod1/np.abs(dotprod1)\n",
    "            U1_gauges[ii,jj,1] = dotprod2/np.abs(dotprod2)\n",
    "\n",
    "    #return the U1 gauges\n",
    "    return U1_gauges\n",
    "\n",
    "def get_numerical_BerryCurvature(states):\n",
    "    #numerical calculation of the Berry curvature for the Wannier basis in a fixed kz plane\n",
    "\n",
    "    #get the shape of the data\n",
    "    (Nx, Ny, _) = states.shape\n",
    "\n",
    "    #calculate the U1 gauges in the lattice\n",
    "    U1_gauges = get_U1Gauge(states)\n",
    "    \n",
    "    #define container for the Berry curvature as a function of (kx,ky)\n",
    "    BerryCurvature = np.zeros(Nx*Ny).reshape((Nx,Ny)).astype(np.complex128)\n",
    "\n",
    "    #iterate through the lattice \n",
    "    for ii in range(Nx):\n",
    "        for jj in range(Ny):\n",
    "            #calculate the Berry curvature\n",
    "            BerryCurvature[ii,jj]  = np.log(U1_gauges[ii,jj,0] \n",
    "                                            * U1_gauges[(ii+1)%Nx,jj,1] \n",
    "                                            / U1_gauges[ii,(jj+1)%Ny,0] \n",
    "                                            / U1_gauges[ii,jj,1])\n",
    "            \n",
    "    #return the Berry curvature\n",
    "    return BerryCurvature"
   ]
  },
  {
   "cell_type": "code",
   "execution_count": null,
   "metadata": {},
   "outputs": [],
   "source": [
    "#create the Pauli matrices\n",
    "s0 = sp.eye(2)\n",
    "sx = sp.Matrix([[0, 1], [1, 0]])\n",
    "sy = sp.Matrix([[0, -sp.I], [sp.I, 0]])\n",
    "sz = sp.Matrix([[1, 0], [0, -1]])"
   ]
  },
  {
   "cell_type": "code",
   "execution_count": null,
   "metadata": {},
   "outputs": [],
   "source": [
    "#create parameters and the Pauli matrices \n",
    "kx_sym, ky_sym, kz_sym = sp.symbols('k_x k_y k_z', real = True)\n",
    "ksymbols = [kx_sym, ky_sym, kz_sym]\n",
    "alpha_sym = sp.symbols('alpha', real = True, positive = True)\n",
    "gamma_z, lambda_z = sp.symbols('gamma_z lambda_z', real = True)"
   ]
  },
  {
   "cell_type": "code",
   "execution_count": null,
   "metadata": {},
   "outputs": [],
   "source": [
    "H_dartboard = - sp.sin(kx_sym) * sp.sin(2*ky_sym) * sx\n",
    "H_dartboard += sp.sin(2*kx_sym) * sp.sin(ky_sym) * sy \n",
    "H_dartboard += (alpha_sym + sp.cos(2*kx_sym) + sp.cos(2*ky_sym)) * sz"
   ]
  },
  {
   "cell_type": "code",
   "execution_count": null,
   "metadata": {},
   "outputs": [],
   "source": [
    "H_layered = sp.Matrix(np.zeros((4,4)))\n",
    "H_layered += TensorProduct(sz,H_dartboard)\n",
    "H_layered += TensorProduct(sy,s0) * lambda_z * sp.sin(kz_sym)\n",
    "H_layered += TensorProduct(sx,s0) * (gamma_z + lambda_z * sp.cos(kz_sym))"
   ]
  },
  {
   "cell_type": "code",
   "execution_count": null,
   "metadata": {},
   "outputs": [],
   "source": [
    "H_layered"
   ]
  },
  {
   "cell_type": "code",
   "execution_count": null,
   "metadata": {},
   "outputs": [],
   "source": [
    "#define system size\n",
    "Nx = 30\n",
    "Ny = 30\n",
    "Nz = 30\n",
    "Nbands = 4\n",
    "Nocc = 2\n",
    "\n",
    "params = {}\n",
    "params[\"Nx\"] = Nx\n",
    "params[\"Ny\"] = Ny\n",
    "params[\"Nz\"] = Nz\n",
    "params[\"Nbands\"] = Nbands\n",
    "params[\"Nocc\"] = Nocc"
   ]
  },
  {
   "cell_type": "code",
   "execution_count": null,
   "metadata": {},
   "outputs": [],
   "source": [
    "Kxs = np.linspace(0, 2*np.pi, Nx, endpoint = False)\n",
    "Kys = np.linspace(0, 2*np.pi, Ny, endpoint = False)\n",
    "Kzs = np.linspace(0, 2*np.pi, Nz, endpoint = False)"
   ]
  },
  {
   "cell_type": "code",
   "execution_count": null,
   "metadata": {},
   "outputs": [],
   "source": [
    "#fix the parameters of the model\n",
    "H_fixparam = H_layered.subs({alpha_sym : 1.0, gamma_z: 0.5, lambda_z: 1})"
   ]
  },
  {
   "cell_type": "code",
   "execution_count": null,
   "metadata": {},
   "outputs": [],
   "source": [
    "#calculate the eigenvalues and eigenstates of the system\n",
    "hfunc = sp.lambdify((kx_sym,ky_sym,kz_sym), H_fixparam, modules = \"numpy\")"
   ]
  },
  {
   "cell_type": "code",
   "execution_count": null,
   "metadata": {},
   "outputs": [],
   "source": [
    "eigenvalues = np.zeros((Nx,Ny,Nz,Nbands))\n",
    "eigenstates = np.zeros((Nx,Ny,Nz,Nbands,Nbands), dtype = np.complex128)\n",
    "\n",
    "for i in range(Nx):\n",
    "    for j in range(Ny):\n",
    "        for k in range(Nz):\n",
    "            vals, vecs = np.linalg.eigh(hfunc(Kxs[i],Kys[j],Kzs[k]))\n",
    "\n",
    "            ind = np.argsort(vals)\n",
    "\n",
    "            eigenvalues[i,j,k] = vals[ind]\n",
    "            eigenstates[i,j,k] = vecs[:,ind]"
   ]
  },
  {
   "cell_type": "code",
   "execution_count": null,
   "metadata": {},
   "outputs": [],
   "source": [
    "Links_z = np.zeros((Nx,Ny,Nz,Nocc,Nocc), dtype = np.complex128)\n",
    "\n",
    "for i in range(Nx):\n",
    "    for j in range(Ny):\n",
    "        for k in range(Nz): \n",
    "            ol = eigenstates[i,j,(k+1)%Nz,:,:Nocc].conj().T @ eigenstates[i,j,k,:,:Nocc]\n",
    "            S, _, V = np.linalg.svd(ol)\n",
    "\n",
    "            Links_z[i,j,k] = S @ V\n",
    "\n",
    "Wilsonloops = np.zeros((Nx,Ny,Nz,Nocc,Nocc), dtype = np.complex128)\n",
    "\n",
    "for i in range(Nx):\n",
    "    for j in range(Ny):\n",
    "        for k in range(Nz):\n",
    "            W = np.eye(Nocc).astype(np.complex128)\n",
    "            for kp in range(Nz):\n",
    "                W = Links_z[i,j,(k+kp)%Nz] @ W\n",
    "\n",
    "            Wilsonloops[i,j,k] = W\n",
    "\n",
    "nuvals = np.zeros((Nx,Ny,Nz,Nocc))\n",
    "nuvecs = np.zeros((Nx,Ny,Nz,Nocc, Nocc), dtype = np.complex128)\n",
    "\n",
    "for i in range(Nx):\n",
    "    for j in range(Ny):\n",
    "        for k in range(Nz):\n",
    "            vals, vecs = np.linalg.eig(Wilsonloops[i,j,k])\n",
    "            angles = np.angle(vals) / (2 * np.pi)\n",
    "\n",
    "            ind = np.argsort(angles)\n",
    "\n",
    "            nuvals[i,j,k] = angles[ind]\n",
    "            nuvecs[i,j,k] = vecs[:,ind]"
   ]
  },
  {
   "cell_type": "code",
   "execution_count": null,
   "metadata": {},
   "outputs": [],
   "source": [
    "#compute Wannier basis\n",
    "wannierbasis = np.zeros((Nx,Ny,Nz,Nbands,Nocc)).astype(np.complex128)\n",
    "\n",
    "for i in range(Nx):\n",
    "    for j in range(Ny):\n",
    "        for k in range(Nz):\n",
    "            for m in range(Nocc):\n",
    "                wannierbasis[i,j,k,:,m] = eigenstates[i,j,k,:,0] * nuvecs[i,j,k,0,m] + eigenstates[i,j,k,:,1] * nuvecs[i,j,k,1,m]"
   ]
  },
  {
   "cell_type": "code",
   "execution_count": null,
   "metadata": {},
   "outputs": [],
   "source": [
    "Nx2 = int(Nx/2)\n",
    "Ny2 = int(Ny/2)\n",
    "\n",
    "cornerBZ_states = wannierbasis[:Nx2,:Ny2,2,:,0]"
   ]
  },
  {
   "cell_type": "code",
   "execution_count": null,
   "metadata": {},
   "outputs": [],
   "source": [
    "bc = get_numerical_BerryCurvature(cornerBZ_states)\n",
    "np.sum(bc / (2*np.pi*1.j))"
   ]
  },
  {
   "cell_type": "code",
   "execution_count": null,
   "metadata": {},
   "outputs": [],
   "source": []
  }
 ],
 "metadata": {
  "kernelspec": {
   "display_name": "base",
   "language": "python",
   "name": "python3"
  },
  "language_info": {
   "codemirror_mode": {
    "name": "ipython",
    "version": 3
   },
   "file_extension": ".py",
   "mimetype": "text/x-python",
   "name": "python",
   "nbconvert_exporter": "python",
   "pygments_lexer": "ipython3",
   "version": "3.12.3"
  }
 },
 "nbformat": 4,
 "nbformat_minor": 2
}
