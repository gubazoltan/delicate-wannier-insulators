{
 "cells": [
  {
   "cell_type": "code",
   "execution_count": null,
   "metadata": {},
   "outputs": [],
   "source": [
    "import sympy as sp\n",
    "import numpy as np\n",
    "import matplotlib.pyplot as plt\n",
    "from sympy.physics.quantum import TensorProduct\n",
    "from scipy.optimize import linear_sum_assignment"
   ]
  },
  {
   "cell_type": "code",
   "execution_count": null,
   "metadata": {},
   "outputs": [],
   "source": [
    "def indf(j,k):\n",
    "    return j*Nz*Nbands + k*Nbands"
   ]
  },
  {
   "cell_type": "code",
   "execution_count": null,
   "metadata": {},
   "outputs": [],
   "source": [
    "def flake_geometry(h_symbolic, syms, params):\n",
    "    #extract system parameters\n",
    "    Ny, Nz, Nbands = params[\"Ny\"], params[\"Nz\"], params[\"Nbands\"]\n",
    "\n",
    "    #extract symbolic variables\n",
    "    kx_sym, ky_sym, kz_sym = syms \n",
    "    \n",
    "    Ly_nn_pos = sp.integrate(h_symbolic * sp.exp(sp.I * ky_sym * (-1.0)), (ky_sym, -sp.pi, sp.pi))/ (2 * sp.pi)\n",
    "    Ly_nn_neg = sp.integrate(h_symbolic * sp.exp(sp.I * ky_sym), (ky_sym, -sp.pi, sp.pi))/ (2 * sp.pi)\n",
    "    Ly_nnn_pos = sp.integrate(h_symbolic * sp.exp(sp.I * 2 * ky_sym * (-1.0)), (ky_sym, -sp.pi, sp.pi))/ (2 * sp.pi)\n",
    "    Ly_nnn_neg = sp.integrate(h_symbolic * sp.exp(sp.I * 2 * ky_sym), (ky_sym, -sp.pi, sp.pi))/ (2 * sp.pi)\n",
    "\n",
    "    Lz_nn_pos = sp.integrate(h_symbolic * sp.exp(sp.I * kz_sym * (-1.0)), (kz_sym, -sp.pi, sp.pi))/ (2 * sp.pi)\n",
    "    Lz_nn_neg = sp.integrate(h_symbolic * sp.exp(sp.I * kz_sym), (kz_sym, -sp.pi, sp.pi))/ (2 * sp.pi)\n",
    "    Lz_nnn_pos = sp.integrate(h_symbolic * sp.exp(sp.I * 2 * kz_sym * (-1.0)), (kz_sym, -sp.pi, sp.pi))/ (2 * sp.pi)\n",
    "    Lz_nnn_neg = sp.integrate(h_symbolic * sp.exp(sp.I * 2 * kz_sym), (kz_sym, -sp.pi, sp.pi))/ (2 * sp.pi)\n",
    "\n",
    "    Ly_nn_pos = Ly_nn_pos.rewrite(sp.cos).simplify()\n",
    "    Ly_nn_neg = Ly_nn_neg.rewrite(sp.cos).simplify()\n",
    "    Ly_nnn_pos = Ly_nnn_pos.rewrite(sp.cos).simplify()\n",
    "    Ly_nnn_neg = Ly_nnn_neg.rewrite(sp.cos).simplify()\n",
    "    Lz_nn_pos = Lz_nn_pos.rewrite(sp.cos).simplify()\n",
    "    Lz_nn_neg = Lz_nn_neg.rewrite(sp.cos).simplify()\n",
    "    Lz_nnn_pos = Lz_nnn_pos.rewrite(sp.cos).simplify()\n",
    "    Lz_nnn_neg = Lz_nnn_neg.rewrite(sp.cos).simplify()\n",
    "\n",
    "    H_diag = h_symbolic\n",
    "    H_diag -= (Ly_nn_pos * sp.exp(sp.I * ky_sym) + Ly_nn_neg * sp.exp(-sp.I * ky_sym) + Ly_nnn_pos * sp.exp(sp.I * 2 * ky_sym) + Ly_nnn_neg * sp.exp(-sp.I * 2 * ky_sym))\n",
    "    H_diag -= (Lz_nn_pos * sp.exp(sp.I * kz_sym) + Lz_nn_neg * sp.exp(-sp.I * kz_sym) + Lz_nnn_pos * sp.exp(sp.I * 2 * kz_sym) + Lz_nnn_neg * sp.exp(-sp.I * 2 * kz_sym))\n",
    "    H_diag = H_diag.rewrite(sp.cos).simplify()\n",
    "    H_diag = sp.nsimplify(H_diag, tolerance = 1e-8)\n",
    "\n",
    "    #create container for the Hamiltonian\n",
    "    h = sp.zeros(Ny*Nz*Nbands, Ny*Nz*Nbands)\n",
    "\n",
    "    for j in range(Ny):\n",
    "        for k in range(Nz):\n",
    "            h[indf(j,k):indf(j,k+1),indf(j,k):indf(j,k+1)] = H_diag\n",
    "\n",
    "            if j > 0:\n",
    "                h[indf(j-1,k):indf(j-1,k+1), indf(j,k):indf(j,k+1)] = Ly_nn_pos\n",
    "\n",
    "            if j > 1:\n",
    "                h[indf(j-2,k):indf(j-2,k+1), indf(j,k):indf(j,k+1)] = Ly_nnn_pos\n",
    "\n",
    "            if j < Ny - 1:\n",
    "                h[indf(j+1,k):indf(j+1,k+1), indf(j,k):indf(j,k+1)] = Ly_nn_neg\n",
    "\n",
    "            if j < Ny - 2:\n",
    "                h[indf(j+2,k):indf(j+2,k+1), indf(j,k):indf(j,k+1)] = Ly_nnn_neg\n",
    "\n",
    "            if k > 0:\n",
    "                h[indf(j,k-1):indf(j,k), indf(j,k):indf(j,k+1)] = Lz_nn_pos\n",
    "\n",
    "            if k > 1:\n",
    "                h[indf(j,k-2):indf(j,k-1), indf(j,k):indf(j,k+1)] = Lz_nnn_pos\n",
    "\n",
    "            if k < Nz - 1:\n",
    "                h[indf(j,k+1):indf(j,k+2), indf(j,k):indf(j,k+1)] = Lz_nn_neg\n",
    "\n",
    "            if k < Nz - 2:\n",
    "                h[indf(j,k+2):indf(j,k+3), indf(j,k):indf(j,k+1)] = Lz_nnn_neg\n",
    "\n",
    "    flake_h = sp.lambdify(kx_sym, h, \"numpy\")\n",
    "\n",
    "    return flake_h"
   ]
  },
  {
   "cell_type": "code",
   "execution_count": null,
   "metadata": {},
   "outputs": [],
   "source": [
    "#create the Pauli matrices\n",
    "s0 = sp.eye(2)\n",
    "sx = sp.Matrix([[0, 1], [1, 0]])\n",
    "sy = sp.Matrix([[0, -sp.I], [sp.I, 0]])\n",
    "sz = sp.Matrix([[1, 0], [0, -1]])"
   ]
  },
  {
   "cell_type": "code",
   "execution_count": null,
   "metadata": {},
   "outputs": [],
   "source": [
    "#create parameters and the Pauli matrices \n",
    "kx_sym, ky_sym, kz_sym = sp.symbols('k_x k_y k_z', real = True)\n",
    "ksymbols = [kx_sym, ky_sym, kz_sym]\n",
    "alpha_sym = sp.symbols('alpha', real = True, positive = True)\n",
    "gamma_z, lambda_z = sp.symbols('gamma_z lambda_z', real = True)"
   ]
  },
  {
   "cell_type": "code",
   "execution_count": null,
   "metadata": {},
   "outputs": [],
   "source": [
    "H_dartboard = - sp.sin(kx_sym) * sp.sin(2*ky_sym) * sx\n",
    "H_dartboard += sp.sin(2*kx_sym) * sp.sin(ky_sym) * sy \n",
    "H_dartboard += (alpha_sym + sp.cos(2*kx_sym) + sp.cos(2*ky_sym)) * sz"
   ]
  },
  {
   "cell_type": "code",
   "execution_count": null,
   "metadata": {},
   "outputs": [],
   "source": [
    "H_layered = sp.Matrix(np.zeros((4,4)))\n",
    "H_layered += TensorProduct(sz,H_dartboard)\n",
    "H_layered += TensorProduct(sy,s0) * lambda_z * sp.sin(kz_sym)\n",
    "H_layered += TensorProduct(sx,s0) * (gamma_z + lambda_z * sp.cos(kz_sym))"
   ]
  },
  {
   "cell_type": "code",
   "execution_count": null,
   "metadata": {},
   "outputs": [],
   "source": [
    "H_layered"
   ]
  },
  {
   "cell_type": "code",
   "execution_count": null,
   "metadata": {},
   "outputs": [],
   "source": [
    "#define system size\n",
    "Nx = 30\n",
    "Ny = 20\n",
    "Nz = 20\n",
    "Nbands = 4\n",
    "Nocc = 2\n",
    "\n",
    "params = {}\n",
    "params[\"Nx\"] = Nx\n",
    "params[\"Ny\"] = Ny\n",
    "params[\"Nz\"] = Nz\n",
    "params[\"Nbands\"] = Nbands\n",
    "params[\"Nocc\"] = Nocc"
   ]
  },
  {
   "cell_type": "code",
   "execution_count": null,
   "metadata": {},
   "outputs": [],
   "source": [
    "#fix the parameters of the model\n",
    "H_fixparam = H_layered.subs({alpha_sym : 1.0, gamma_z: 0.5, lambda_z: 1})"
   ]
  },
  {
   "cell_type": "code",
   "execution_count": null,
   "metadata": {},
   "outputs": [],
   "source": [
    "h_flake = flake_geometry(H_fixparam, [kx_sym, ky_sym, kz_sym], params)"
   ]
  },
  {
   "cell_type": "code",
   "execution_count": null,
   "metadata": {},
   "outputs": [],
   "source": [
    "Kxs = np.linspace(0, 2*np.pi, Nx, endpoint = False)"
   ]
  },
  {
   "cell_type": "code",
   "execution_count": null,
   "metadata": {},
   "outputs": [],
   "source": [
    "eigenvalues = np.zeros((Nx, Ny*Nz*Nbands))\n",
    "eigenstates = np.zeros((Nx,Ny*Nz*Nbands,Ny*Nz*Nbands), dtype = np.complex128)\n",
    "\n",
    "for i in range(Nx): \n",
    "    vals, vecs = np.linalg.eigh(h_flake(Kxs[i]))\n",
    "\n",
    "    ind = np.argsort(vals)\n",
    "    eigenvalues[i] = vals[ind]\n",
    "    eigenstates[i] = vecs[:,ind]"
   ]
  },
  {
   "cell_type": "code",
   "execution_count": null,
   "metadata": {},
   "outputs": [],
   "source": [
    "#carry out linear sum assignment\n",
    "for i in range(Nx-1):\n",
    "    v0 = eigenstates[i,:,:]\n",
    "    v1 = eigenstates[i+1,:,:]\n",
    "    vals1 = eigenvalues[i+1,:]\n",
    "\n",
    "    Q = abs(v0.conj().T @ v1)\n",
    "    ind = linear_sum_assignment(-Q)[1]\n",
    "\n",
    "    eigenvalues[i+1,:] = vals1[ind]\n",
    "    eigenstates[i+1,:,:] = v1[:, ind]"
   ]
  },
  {
   "cell_type": "code",
   "execution_count": null,
   "metadata": {},
   "outputs": [],
   "source": [
    "fig = plt.figure(figsize=(4,3))\n",
    "\n",
    "for i in range(Ny*Nz*Nbands):\n",
    "    plt.plot(Kxs, eigenvalues[:,i], color = 'black', alpha = 0.05)\n",
    "\n",
    "plt.xlabel(r\"$k_x$\", fontsize = 16, labelpad = -3)\n",
    "plt.ylabel(r\"$E$\", fontsize = 16, labelpad = -7) \n",
    "plt.xticks([0, np.pi/2, np.pi, 3*np.pi/2, 2*np.pi], [r\"$0$\", r\"$\\pi/2$\", r\"$\\pi$\", r\"$3\\pi/2$\", r\"$2\\pi$\"], fontsize = 14)\n",
    "plt.yticks([-3, 0, 3], fontsize = 14)\n",
    "plt.show()"
   ]
  },
  {
   "cell_type": "code",
   "execution_count": null,
   "metadata": {},
   "outputs": [],
   "source": [
    "eigenvalues[6,800+4]"
   ]
  },
  {
   "cell_type": "code",
   "execution_count": null,
   "metadata": {},
   "outputs": [],
   "source": [
    "slice = 7\n",
    "density = np.zeros((Ny,Nz))\n",
    "\n",
    "for m in range(Ny*Nz*2-4,Ny*Nz*2+4):\n",
    "    v1 = eigenstates[slice,:,m]\n",
    "    for j in range(Ny):\n",
    "        for k in range(Nz):\n",
    "            density[j,k] += np.sum(abs(v1[indf(j,k):indf(j,k+1)])**2)"
   ]
  },
  {
   "cell_type": "code",
   "execution_count": null,
   "metadata": {},
   "outputs": [],
   "source": [
    "np.sum(density)"
   ]
  },
  {
   "cell_type": "code",
   "execution_count": null,
   "metadata": {},
   "outputs": [],
   "source": []
  }
 ],
 "metadata": {
  "kernelspec": {
   "display_name": "base",
   "language": "python",
   "name": "python3"
  },
  "language_info": {
   "codemirror_mode": {
    "name": "ipython",
    "version": 3
   },
   "file_extension": ".py",
   "mimetype": "text/x-python",
   "name": "python",
   "nbconvert_exporter": "python",
   "pygments_lexer": "ipython3",
   "version": "3.13.2"
  }
 },
 "nbformat": 4,
 "nbformat_minor": 2
}
