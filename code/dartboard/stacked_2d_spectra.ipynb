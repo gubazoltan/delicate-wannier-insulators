{
 "cells": [
  {
   "cell_type": "code",
   "execution_count": null,
   "metadata": {},
   "outputs": [],
   "source": [
    "import sympy as sp\n",
    "import numpy as np\n",
    "import matplotlib.pyplot as plt\n",
    "from sympy.physics.quantum import TensorProduct\n",
    "from matplotlib import cm"
   ]
  },
  {
   "cell_type": "code",
   "execution_count": null,
   "metadata": {},
   "outputs": [],
   "source": [
    "#create the Pauli matrices\n",
    "s0 = sp.eye(2)\n",
    "sx = sp.Matrix([[0, 1], [1, 0]])\n",
    "sy = sp.Matrix([[0, -sp.I], [sp.I, 0]])\n",
    "sz = sp.Matrix([[1, 0], [0, -1]])"
   ]
  },
  {
   "cell_type": "code",
   "execution_count": null,
   "metadata": {},
   "outputs": [],
   "source": [
    "#create parameters and the Pauli matrices \n",
    "kx_sym, ky_sym, kz_sym = sp.symbols('k_x k_y k_z', real = True)\n",
    "ksymbols = [kx_sym, ky_sym, kz_sym]\n",
    "alpha_sym = sp.symbols('alpha', real = True, positive = True)\n",
    "gamma_z, lambda_z = sp.symbols('gamma_z lambda_z', real = True)"
   ]
  },
  {
   "cell_type": "code",
   "execution_count": null,
   "metadata": {},
   "outputs": [],
   "source": [
    "H_dartboard = - sp.sin(kx_sym) * sp.sin(2*ky_sym) * sx\n",
    "H_dartboard += sp.sin(2*kx_sym) * sp.sin(ky_sym) * sy \n",
    "H_dartboard += (alpha_sym + sp.cos(2*kx_sym) + sp.cos(2*ky_sym)) * sz"
   ]
  },
  {
   "cell_type": "code",
   "execution_count": null,
   "metadata": {},
   "outputs": [],
   "source": [
    "H_layered = sp.Matrix(np.zeros((4,4)))\n",
    "H_layered += TensorProduct(sz,H_dartboard)\n",
    "H_layered += TensorProduct(sy,s0) * lambda_z * sp.sin(kz_sym)\n",
    "H_layered += TensorProduct(sx,s0) * (gamma_z + lambda_z * sp.cos(kz_sym))"
   ]
  },
  {
   "cell_type": "code",
   "execution_count": null,
   "metadata": {},
   "outputs": [],
   "source": [
    "H_layered"
   ]
  },
  {
   "cell_type": "code",
   "execution_count": null,
   "metadata": {},
   "outputs": [],
   "source": [
    "#define system size\n",
    "Nx = 30\n",
    "Ny = 30\n",
    "Nz = 30\n",
    "Nbands = 4\n",
    "Nocc = 2\n",
    "\n",
    "params = {}\n",
    "params[\"Nx\"] = Nx\n",
    "params[\"Ny\"] = Ny\n",
    "params[\"Nz\"] = Nz\n",
    "params[\"Nbands\"] = Nbands\n",
    "params[\"Nocc\"] = Nocc"
   ]
  },
  {
   "cell_type": "code",
   "execution_count": null,
   "metadata": {},
   "outputs": [],
   "source": [
    "Kxs = np.linspace(0, 2*np.pi, Nx, endpoint = False)\n",
    "Kys = np.linspace(0, 2*np.pi, Ny, endpoint = False)\n",
    "Kzs = np.linspace(0, 2*np.pi, Nz, endpoint = False)"
   ]
  },
  {
   "cell_type": "code",
   "execution_count": null,
   "metadata": {},
   "outputs": [],
   "source": [
    "#fix the parameters of the model\n",
    "H_fixparam = H_layered.subs({alpha_sym : 1, gamma_z: 0.5, lambda_z: 1})"
   ]
  },
  {
   "cell_type": "code",
   "execution_count": null,
   "metadata": {},
   "outputs": [],
   "source": [
    "#calculate the eigenvalues and eigenstates of the system\n",
    "hfunc = sp.lambdify((kx_sym,ky_sym,kz_sym), H_fixparam, modules = \"numpy\")"
   ]
  },
  {
   "cell_type": "code",
   "execution_count": null,
   "metadata": {},
   "outputs": [],
   "source": [
    "eigenvalues = np.zeros((Nx,Ny,Nz,Nbands))\n",
    "eigenstates = np.zeros((Nx,Ny,Nz,Nbands,Nbands), dtype = np.complex128)\n",
    "\n",
    "for i in range(Nx):\n",
    "    for j in range(Ny):\n",
    "        for k in range(Nz):\n",
    "            vals, vecs = np.linalg.eigh(hfunc(Kxs[i],Kys[j],Kzs[k]))\n",
    "\n",
    "            ind = np.argsort(vals)\n",
    "\n",
    "            eigenvalues[i,j,k] = vals[ind]\n",
    "            eigenstates[i,j,k] = vecs[:,ind]"
   ]
  },
  {
   "cell_type": "code",
   "execution_count": null,
   "metadata": {},
   "outputs": [],
   "source": [
    "Links_z = np.zeros((Nx,Ny,Nz,Nocc,Nocc), dtype = np.complex128)\n",
    "\n",
    "for i in range(Nx):\n",
    "    for j in range(Ny):\n",
    "        for k in range(Nz): \n",
    "            ol = eigenstates[i,j,(k+1)%Nz,:,:Nocc].conj().T @ eigenstates[i,j,k,:,:Nocc]\n",
    "            S, _, V = np.linalg.svd(ol)\n",
    "\n",
    "            Links_z[i,j,k] = S @ V\n",
    "\n",
    "Wilsonloops = np.zeros((Nx,Ny,Nocc,Nocc), dtype = np.complex128)\n",
    "\n",
    "for i in range(Nx):\n",
    "    for j in range(Ny):\n",
    "        W = np.eye(Nocc).astype(np.complex128)\n",
    "        for k in range(Nz):\n",
    "            W = Links_z[i,j,k] @ W\n",
    "\n",
    "        Wilsonloops[i,j] = W\n",
    "\n",
    "nuvals = np.zeros((Nx,Ny,Nocc))\n",
    "nuvecs = np.zeros((Nx,Ny,Nocc,Nocc), dtype = np.complex128)\n",
    "\n",
    "for i in range(Nx):\n",
    "    for j in range(Ny):\n",
    "        vals, vecs = np.linalg.eig(Wilsonloops[i,j])\n",
    "        angles = np.angle(vals) / (2 * np.pi)\n",
    "\n",
    "        ind = np.argsort(angles)\n",
    "\n",
    "        nuvals[i,j] = angles[ind]\n",
    "        nuvecs[i,j] = vecs[:,ind]"
   ]
  },
  {
   "cell_type": "code",
   "execution_count": null,
   "metadata": {},
   "outputs": [],
   "source": [
    "fig, ax = plt.subplots(1,1, subplot_kw={\"projection\": \"3d\"}, figsize = (4,3))\n",
    "plt.subplots_adjust(bottom=0.1, right=1, top=2)\n",
    "\n",
    "X, Y = np.meshgrid(Kxs, Kys)\n",
    "\n",
    "ax.plot_surface(X.T, Y.T, nuvals[:,:,0], cmap=cm.viridis, linewidth=0, antialiased=False, vmin = -0.15, vmax = 0.15, alpha = 1.0)\n",
    "ax.plot_surface(X.T, Y.T, nuvals[:,:,1], cmap=cm.viridis, linewidth=0, antialiased=False, vmin = -0.15, vmax = 0.15, alpha = 1.0)\n",
    "\n",
    "ax.set_xlabel(r\"$k_x$\", fontsize = 16, labelpad = 8)\n",
    "ax.set_ylabel(r\"$k_y$\", fontsize = 16, labelpad = 8)\n",
    "ax.set_xticks([0, np.pi/2, np.pi, 3*np.pi/2, 2*np.pi], [r\"$0$\", r\"$\\pi/2$\", r\"$\\pi$\", r\"$3\\pi/2$\", r\"$2\\pi$\"], fontsize = 14)\n",
    "ax.set_yticks([0, np.pi/2, np.pi, 3*np.pi/2, 2*np.pi], [r\"$0$\", r\"$\\pi/2$\", r\"$\\pi$\", r\"$3\\pi/2$\", r\"$2\\pi$\"], fontsize = 14)\n",
    "ax.set_zticks([-0.1, 0, 0.1], [r\"$-0.1$\", r\"$0$\", r\"$0.1$\"], fontsize = 14)\n",
    "ax.set_title(r\"$\\nu_z$\", x = 1.02, y = 0.85, fontsize = 16)\n",
    "ax.view_init(15, 120)\n",
    "plt.show()"
   ]
  },
  {
   "cell_type": "code",
   "execution_count": null,
   "metadata": {},
   "outputs": [],
   "source": []
  }
 ],
 "metadata": {
  "kernelspec": {
   "display_name": "base",
   "language": "python",
   "name": "python3"
  },
  "language_info": {
   "codemirror_mode": {
    "name": "ipython",
    "version": 3
   },
   "file_extension": ".py",
   "mimetype": "text/x-python",
   "name": "python",
   "nbconvert_exporter": "python",
   "pygments_lexer": "ipython3",
   "version": "3.12.3"
  }
 },
 "nbformat": 4,
 "nbformat_minor": 2
}
