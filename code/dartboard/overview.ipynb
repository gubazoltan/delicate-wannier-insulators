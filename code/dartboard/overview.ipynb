{
 "cells": [
  {
   "cell_type": "code",
   "execution_count": null,
   "metadata": {},
   "outputs": [],
   "source": [
    "import sympy as sp\n",
    "import numpy as np\n",
    "import matplotlib.pyplot as plt\n",
    "from scipy.optimize import linear_sum_assignment"
   ]
  },
  {
   "cell_type": "code",
   "execution_count": null,
   "metadata": {},
   "outputs": [],
   "source": [
    "def get_U1Gauge(states):\n",
    "    (Nx, Ny, _) = states.shape\n",
    "\n",
    "    U1_gauges = np.zeros(Nx*Ny*2).reshape((Nx,Ny,2)).astype(np.complex128)\n",
    "\n",
    "    for ii in range(Nx):\n",
    "        for jj in range(Ny):\n",
    "            dotprod1 = np.dot(np.conj(states[(ii+1)%Nx,jj,:].T), states[ii,jj,:])\n",
    "            dotprod2 = np.dot(np.conj(states[ii,(jj+1)%Ny,:].T), states[ii,jj,:])\n",
    "\n",
    "            U1_gauges[ii,jj,0] = dotprod1/np.abs(dotprod1)\n",
    "            U1_gauges[ii,jj,1] = dotprod2/np.abs(dotprod2)\n",
    "\n",
    "    return U1_gauges\n",
    "\n",
    "def get_numerical_BerryCurvature(states):\n",
    "    (Nx, Ny, _) = states.shape\n",
    "\n",
    "    U1_gauges = get_U1Gauge(states)\n",
    "    \n",
    "    BerryCurvature = np.zeros(Nx*Ny).reshape((Nx,Ny)).astype(np.complex128)\n",
    "\n",
    "    for ii in range(Nx):\n",
    "        for jj in range(Ny):\n",
    "            BerryCurvature[ii,jj]  = np.log(U1_gauges[ii,jj,0] \n",
    "                                            * U1_gauges[(ii+1)%Nx,jj,1] \n",
    "                                            / U1_gauges[ii,(jj+1)%Ny,0] \n",
    "                                            / U1_gauges[ii,jj,1])\n",
    "            \n",
    "    return BerryCurvature"
   ]
  },
  {
   "cell_type": "code",
   "execution_count": null,
   "metadata": {},
   "outputs": [],
   "source": [
    "def get_surface_hamiltonian(h_symbolic, ksymbols, params, direction = \"x\"):\n",
    "    Nx, Ny, Nbands = params['Nx'], params['Ny'], params['Nbands']\n",
    "\n",
    "    kx_sym, ky_sym = ksymbols\n",
    "\n",
    "    if direction == \"x\":\n",
    "        Lx_nn_pos = sp.integrate(h_symbolic * sp.exp(sp.I * kx_sym * (-1.0)), (kx_sym, -sp.pi, sp.pi))/ (2 * sp.pi)\n",
    "        Lx_nn_neg = sp.integrate(h_symbolic * sp.exp(sp.I * kx_sym), (kx_sym, -sp.pi, sp.pi))/ (2 * sp.pi)\n",
    "        Lx_nnn_pos = sp.integrate(h_symbolic * sp.exp(sp.I * 2 * kx_sym * (-1.0)), (kx_sym, -sp.pi, sp.pi))/ (2 * sp.pi)\n",
    "        Lx_nnn_neg = sp.integrate(h_symbolic * sp.exp(sp.I * 2 * kx_sym), (kx_sym, -sp.pi, sp.pi))/ (2 * sp.pi)\n",
    "\n",
    "        Lx_nn_pos = Lx_nn_pos.rewrite(sp.cos).simplify()\n",
    "        Lx_nn_neg = Lx_nn_neg.rewrite(sp.cos).simplify()\n",
    "        Lx_nnn_pos = Lx_nnn_pos.rewrite(sp.cos).simplify()\n",
    "        Lx_nnn_neg = Lx_nnn_neg.rewrite(sp.cos).simplify()\n",
    "        \n",
    "        H_diag = h_symbolic - (Lx_nn_pos * sp.exp(sp.I * kx_sym) + Lx_nn_neg * sp.exp(-sp.I * kx_sym) + Lx_nnn_pos * sp.exp(sp.I * 2 * kx_sym) + Lx_nnn_neg * sp.exp(-sp.I * 2 * kx_sym))\n",
    "        H_diag = H_diag.rewrite(sp.cos).simplify()\n",
    "        H_diag = sp.nsimplify(H_diag, tolerance = 1e-8)\n",
    "        \n",
    "        h = sp.zeros(Nx*Nbands, Nx*Nbands)\n",
    "\n",
    "        for i in range(Nx):\n",
    "            h[i*Nbands:(i+1)*Nbands, i*Nbands:(i+1)*Nbands] = H_diag[:,:]\n",
    "\n",
    "            if i > 0: \n",
    "                h[(i-1)*Nbands:i*Nbands, i*Nbands:(i+1)*Nbands] = Lx_nn_pos[:,:]\n",
    "\n",
    "            if i > 1:\n",
    "                h[(i-2)*Nbands:(i-1)*Nbands, i*Nbands:(i+1)*Nbands] = Lx_nnn_pos[:,:]\n",
    "\n",
    "            if i < Nx - 1:\n",
    "                h[(i+1)*Nbands:(i+2)*Nbands, i*Nbands:(i+1)*Nbands] = Lx_nn_neg[:,:]\n",
    "\n",
    "            if i < Nx - 2:\n",
    "                h[(i+2)*Nbands:(i+3)*Nbands, i*Nbands:(i+1)*Nbands] = Lx_nnn_neg[:,:]\n",
    "\n",
    "        slab_hfunc = sp.lambdify(ky_sym, h, modules = \"numpy\")\n",
    "\n",
    "    elif direction == \"y\":\n",
    "        Ly_nn_pos = sp.integrate(h_symbolic * sp.exp(sp.I * ky_sym * (-1.0)), (ky_sym, -sp.pi, sp.pi))/ (2 * sp.pi)\n",
    "        Ly_nn_neg = sp.integrate(h_symbolic * sp.exp(sp.I * ky_sym), (ky_sym, -sp.pi, sp.pi))/ (2 * sp.pi)\n",
    "        Ly_nnn_pos = sp.integrate(h_symbolic * sp.exp(sp.I * 2 * ky_sym * (-1.0)), (ky_sym, -sp.pi, sp.pi))/ (2 * sp.pi)\n",
    "        Ly_nnn_neg = sp.integrate(h_symbolic * sp.exp(sp.I * 2 * ky_sym), (ky_sym, -sp.pi, sp.pi))/ (2 * sp.pi)\n",
    "\n",
    "        Ly_nn_pos = Ly_nn_pos.rewrite(sp.cos).simplify()\n",
    "        Ly_nn_neg = Ly_nn_neg.rewrite(sp.cos).simplify()\n",
    "        Ly_nnn_pos = Ly_nnn_pos.rewrite(sp.cos).simplify()\n",
    "        Ly_nnn_neg = Ly_nnn_neg.rewrite(sp.cos).simplify()\n",
    "\n",
    "        H_diag = h_symbolic - (Ly_nn_pos * sp.exp(sp.I * ky_sym) + Ly_nn_neg * sp.exp(-sp.I * ky_sym) + Ly_nnn_pos * sp.exp(sp.I * 2 * ky_sym) + Ly_nnn_neg * sp.exp(-sp.I * 2 * ky_sym))\n",
    "        H_diag = H_diag.rewrite(sp.cos).simplify()\n",
    "        H_diag = sp.nsimplify(H_diag, tolerance = 1e-8)\n",
    "        \n",
    "        h = sp.zeros(Ny*Nbands, Ny*Nbands)\n",
    "\n",
    "        for i in range(Ny):\n",
    "            h[i*Nbands:(i+1)*Nbands, i*Nbands:(i+1)*Nbands] = H_diag[:,:]\n",
    "\n",
    "            if i > 0: \n",
    "                h[(i-1)*Nbands:i*Nbands, i*Nbands:(i+1)*Nbands] = Ly_nn_pos[:,:]\n",
    "\n",
    "            if i > 1:\n",
    "                h[(i-2)*Nbands:(i-1)*Nbands, i*Nbands:(i+1)*Nbands] = Ly_nnn_pos[:,:]\n",
    "\n",
    "            if i < Ny - 1:\n",
    "                h[(i+1)*Nbands:(i+2)*Nbands, i*Nbands:(i+1)*Nbands] = Ly_nn_neg[:,:]\n",
    "\n",
    "            if i < Ny - 2:\n",
    "                h[(i+2)*Nbands:(i+3)*Nbands, i*Nbands:(i+1)*Nbands] = Ly_nnn_neg[:,:]\n",
    "            \n",
    "        slab_hfunc = sp.lambdify(kx_sym, h, modules = \"numpy\")\n",
    "\n",
    "    else:\n",
    "        raise ValueError(\"Invalid direction\")\n",
    "    \n",
    "    return slab_hfunc"
   ]
  },
  {
   "cell_type": "code",
   "execution_count": null,
   "metadata": {},
   "outputs": [],
   "source": [
    "s0 = sp.eye(2)\n",
    "sx = sp.Matrix([[0, 1], [1, 0]])\n",
    "sy = sp.Matrix([[0, -sp.I], [sp.I, 0]])\n",
    "sz = sp.Matrix([[1, 0], [0, -1]])"
   ]
  },
  {
   "cell_type": "code",
   "execution_count": null,
   "metadata": {},
   "outputs": [],
   "source": [
    "kx_sym, ky_sym = sp.symbols('k_x k_y', real = True)\n",
    "ksymbols = [kx_sym, ky_sym]\n",
    "alpha = sp.symbols('alpha', real = True, positive = True)"
   ]
  },
  {
   "cell_type": "code",
   "execution_count": null,
   "metadata": {},
   "outputs": [],
   "source": [
    "H_dartboard = - sp.sin(kx_sym) * sp.sin(2*ky_sym) * sx\n",
    "H_dartboard += sp.sin(2*kx_sym) * sp.sin(ky_sym) * sy \n",
    "H_dartboard += (alpha + sp.cos(2*kx_sym) + sp.cos(2*ky_sym)) * sz"
   ]
  },
  {
   "cell_type": "code",
   "execution_count": null,
   "metadata": {},
   "outputs": [],
   "source": [
    "Nx = 100\n",
    "Ny = 30\n",
    "Nbands = 2\n",
    "Nocc = 1\n",
    "\n",
    "params = {}\n",
    "params[\"Nx\"] = Nx\n",
    "params[\"Ny\"] = Ny\n",
    "params[\"Nz\"] = 0\n",
    "params[\"Nbands\"] = Nbands\n",
    "params[\"Nocc\"] = Nocc"
   ]
  },
  {
   "cell_type": "code",
   "execution_count": null,
   "metadata": {},
   "outputs": [],
   "source": [
    "Kxs = np.linspace(0, 2*np.pi, Nx, endpoint = False)\n",
    "Kys = np.linspace(0, 2*np.pi, Ny, endpoint = False)"
   ]
  },
  {
   "cell_type": "code",
   "execution_count": null,
   "metadata": {},
   "outputs": [],
   "source": [
    "H_fixparam = H_dartboard.subs({alpha : 1})\n",
    "hfunc = sp.lambdify((kx_sym,ky_sym), H_fixparam, modules = \"numpy\")"
   ]
  },
  {
   "cell_type": "code",
   "execution_count": null,
   "metadata": {},
   "outputs": [],
   "source": [
    "eigenvalues = np.zeros((Nx,Ny,Nbands))\n",
    "eigenstates = np.zeros((Nx,Ny,Nbands,Nbands), dtype = np.complex128)\n",
    "\n",
    "for i in range(Nx):\n",
    "    for j in range(Ny):\n",
    "        vals, vecs = np.linalg.eigh(hfunc(Kxs[i],Kys[j]))\n",
    "\n",
    "        ind = np.argsort(vals)\n",
    "\n",
    "        eigenvalues[i,j] = vals[ind]\n",
    "        eigenstates[i,j] = vecs[:,ind]"
   ]
  },
  {
   "cell_type": "code",
   "execution_count": null,
   "metadata": {},
   "outputs": [],
   "source": [
    "slab_hfunc_Y = get_surface_hamiltonian(h_symbolic = H_fixparam, ksymbols = ksymbols, params = params, direction = \"y\")"
   ]
  },
  {
   "cell_type": "code",
   "execution_count": null,
   "metadata": {},
   "outputs": [],
   "source": [
    "eigenvalues_y = np.zeros((Nx,Ny*Nbands))\n",
    "eigenstates_y = np.zeros((Nx,Ny*Nbands,Ny*Nbands), dtype = np.complex128)\n",
    "\n",
    "for idx, kx in enumerate(Kxs):\n",
    "    vals, vecs = np.linalg.eigh(slab_hfunc_Y(kx))\n",
    "\n",
    "    ind = np.argsort(vals)\n",
    "    eigenvalues_y[idx,:] = vals[ind]\n",
    "    eigenstates_y[idx,:,:] = vecs[:,ind]"
   ]
  },
  {
   "cell_type": "code",
   "execution_count": null,
   "metadata": {},
   "outputs": [],
   "source": [
    "for i in range(Nx-1):\n",
    "    v0 = eigenstates_y[i,:,:]\n",
    "    v1 = eigenstates_y[i+1,:,:]\n",
    "    vals1 = eigenvalues_y[i+1,:]\n",
    "\n",
    "    Q = abs(v0.conj().T @ v1)\n",
    "    ind = linear_sum_assignment(-Q)[1]\n",
    "\n",
    "    eigenvalues_y[i+1,:] = vals1[ind]\n",
    "    eigenstates_y[i+1,:,:] = v1[:, ind]"
   ]
  },
  {
   "cell_type": "code",
   "execution_count": null,
   "metadata": {},
   "outputs": [],
   "source": [
    "fig = plt.figure(figsize = (4,3))\n",
    "for i in range(Ny*Nbands):\n",
    "    plt.plot(Kxs, eigenvalues_y[:,i], color = \"black\", alpha = 0.3)\n",
    "\n",
    "plt.xlabel(r\"$k_x$\", fontsize = 16, labelpad = -3)\n",
    "plt.ylabel(r\"$E$\", fontsize = 16, labelpad = -7) \n",
    "plt.xticks([0, np.pi/2, np.pi, 3*np.pi/2, 2*np.pi], [r\"$0$\", r\"$\\pi/2$\", r\"$\\pi$\", r\"$3\\pi/2$\", r\"$2\\pi$\"], fontsize = 14)\n",
    "plt.yticks([-3, 0, 3], fontsize = 14)\n",
    "plt.show()"
   ]
  },
  {
   "cell_type": "code",
   "execution_count": null,
   "metadata": {},
   "outputs": [],
   "source": [
    "Nx2 = int(Nx/2)\n",
    "Ny2 = int(Ny/2)\n",
    "\n",
    "cornerBZ_states = eigenstates[:Nx2,:Ny2,:,0]"
   ]
  },
  {
   "cell_type": "code",
   "execution_count": null,
   "metadata": {},
   "outputs": [],
   "source": [
    "bc = get_numerical_BerryCurvature(cornerBZ_states)\n",
    "np.sum(bc / (2*np.pi*1.j))"
   ]
  },
  {
   "cell_type": "code",
   "execution_count": null,
   "metadata": {},
   "outputs": [],
   "source": []
  }
 ],
 "metadata": {
  "kernelspec": {
   "display_name": "base",
   "language": "python",
   "name": "python3"
  },
  "language_info": {
   "codemirror_mode": {
    "name": "ipython",
    "version": 3
   },
   "file_extension": ".py",
   "mimetype": "text/x-python",
   "name": "python",
   "nbconvert_exporter": "python",
   "pygments_lexer": "ipython3",
   "version": "3.12.3"
  }
 },
 "nbformat": 4,
 "nbformat_minor": 2
}
