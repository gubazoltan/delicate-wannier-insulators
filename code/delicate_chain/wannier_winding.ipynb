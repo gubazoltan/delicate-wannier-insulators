{
 "cells": [
  {
   "cell_type": "code",
   "execution_count": null,
   "metadata": {},
   "outputs": [],
   "source": [
    "import sympy as sp\n",
    "import numpy as np\n",
    "import matplotlib.pyplot as plt\n",
    "from sympy.physics.quantum import TensorProduct"
   ]
  },
  {
   "cell_type": "code",
   "execution_count": null,
   "metadata": {},
   "outputs": [],
   "source": [
    "kx_sym, ky_sym = sp.symbols('k_x k_y', real = True)\n",
    "alpha_sym = sp.symbols('alpha', real = True, positive = True)\n",
    "beta_sym = sp.symbols('beta', real = True, positive = True)\n",
    "gamma_z, lambda_z = sp.symbols('gamma_z lambda_z', real = True)"
   ]
  },
  {
   "cell_type": "code",
   "execution_count": null,
   "metadata": {},
   "outputs": [],
   "source": [
    "s0 = sp.eye(2)\n",
    "sx = sp.Matrix([[0, 1], [1, 0]])\n",
    "sy = sp.Matrix([[0, -sp.I], [sp.I, 0]])\n",
    "sz = sp.Matrix([[1, 0], [0, -1]])"
   ]
  },
  {
   "cell_type": "code",
   "execution_count": null,
   "metadata": {},
   "outputs": [],
   "source": [
    "h_1d =  (sp.sin(kx_sym) + alpha_sym * sp.sin(2*kx_sym)) * sx\n",
    "h_1d += (sp.cos(kx_sym) + beta_sym  * sp.cos(2*kx_sym)) * sz"
   ]
  },
  {
   "cell_type": "code",
   "execution_count": null,
   "metadata": {},
   "outputs": [],
   "source": [
    "H_layered = sp.Matrix(np.zeros((4,4)))\n",
    "H_layered += TensorProduct(sz,h_1d)\n",
    "H_layered += TensorProduct(sy,s0) * lambda_z * sp.sin(ky_sym)\n",
    "H_layered += TensorProduct(sx,s0) * (gamma_z + lambda_z * sp.cos(ky_sym))"
   ]
  },
  {
   "cell_type": "code",
   "execution_count": null,
   "metadata": {},
   "outputs": [],
   "source": [
    "H_layered"
   ]
  },
  {
   "cell_type": "code",
   "execution_count": null,
   "metadata": {},
   "outputs": [],
   "source": [
    "Nx = 100\n",
    "Ny = 30\n",
    "Nbands = 4\n",
    "Nocc = 2\n",
    "\n",
    "params = {}\n",
    "params[\"Nx\"] = Nx\n",
    "params[\"Ny\"] = Ny\n",
    "params[\"Nbands\"] = Nbands\n",
    "params[\"Nocc\"] = Nocc"
   ]
  },
  {
   "cell_type": "code",
   "execution_count": null,
   "metadata": {},
   "outputs": [],
   "source": [
    "Kxs = np.linspace(0, 2*np.pi, Nx, endpoint = False)\n",
    "Kys = np.linspace(0, 2*np.pi, Ny, endpoint = False)"
   ]
  },
  {
   "cell_type": "code",
   "execution_count": null,
   "metadata": {},
   "outputs": [],
   "source": [
    "H_hodti_fixalpha = H_layered.subs({alpha_sym : 2.0, beta_sym: 2.0, gamma_z: 0.5, lambda_z: 1})"
   ]
  },
  {
   "cell_type": "code",
   "execution_count": null,
   "metadata": {},
   "outputs": [],
   "source": [
    "hfunc = sp.lambdify((kx_sym,ky_sym), H_hodti_fixalpha, modules = \"numpy\")"
   ]
  },
  {
   "cell_type": "code",
   "execution_count": null,
   "metadata": {},
   "outputs": [],
   "source": [
    "eigenvalues = np.zeros((Nx,Ny,Nbands))\n",
    "eigenstates = np.zeros((Nx,Ny,Nbands,Nbands), dtype = np.complex128)\n",
    "\n",
    "for i in range(Nx):\n",
    "    for j in range(Ny):\n",
    "        vals, vecs = np.linalg.eigh(hfunc(Kxs[i],Kys[j]))\n",
    "\n",
    "        ind = np.argsort(vals)\n",
    "\n",
    "        eigenvalues[i,j] = vals[ind]\n",
    "        eigenstates[i,j] = vecs[:,ind]"
   ]
  },
  {
   "cell_type": "code",
   "execution_count": null,
   "metadata": {},
   "outputs": [],
   "source": [
    "links_y_occ = np.zeros((Nx,Ny,Nocc,Nocc), dtype = np.complex128)\n",
    "\n",
    "for i in range(Nx):\n",
    "    for j in range(Ny):\n",
    "        overlap_occ = eigenstates[i, (j+1)%Ny, :, :Nocc].conj().T @ eigenstates[i, j, :, :Nocc]\n",
    "\n",
    "        U_occ, _, Vh_occ = np.linalg.svd(overlap_occ)\n",
    "\n",
    "        links_y_occ[i, j, :, :] = U_occ @ Vh_occ"
   ]
  },
  {
   "cell_type": "code",
   "execution_count": null,
   "metadata": {},
   "outputs": [],
   "source": [
    "Wilsonloops_y_occ = np.zeros((Nx, Nocc, Nocc)).astype(np.complex128)\n",
    "\n",
    "for i in range(Nx):\n",
    "    W_occ = np.eye(Nocc).astype(np.complex128)\n",
    "\n",
    "    for j in range(Ny):\n",
    "        W_occ = links_y_occ[i, j, :, :] @ W_occ\n",
    "\n",
    "    Wilsonloops_y_occ[i] = W_occ"
   ]
  },
  {
   "cell_type": "code",
   "execution_count": null,
   "metadata": {},
   "outputs": [],
   "source": [
    "nu_vals_y = np.zeros((Nx, Nocc))\n",
    "nu_vecs_y = np.zeros((Nx, Nocc, Nocc)).astype(np.complex128)\n",
    "\n",
    "for i in range(Nx):\n",
    "    evals, evecs = np.linalg.eig(Wilsonloops_y_occ[i, :, :])\n",
    "    angles = np.angle(evals)/(2*np.pi)\n",
    "\n",
    "    idx = np.argsort(angles)\n",
    "    angles = angles[idx]\n",
    "    evecs = evecs[:, idx]\n",
    "\n",
    "    nu_vals_y[i, :] = angles[:]\n",
    "    nu_vecs_y[i, :, :] = evecs[:, :]"
   ]
  },
  {
   "cell_type": "code",
   "execution_count": null,
   "metadata": {},
   "outputs": [],
   "source": [
    "fig = plt.figure(figsize = (4,3))\n",
    "plt.plot(Kxs,nu_vals_y[:,0], 'k-', alpha = 0.7)\n",
    "plt.plot(Kxs,nu_vals_y[:,1], 'k-', alpha = 0.7)\n",
    "\n",
    "plt.xlabel(r\"$k_x$\", fontsize = 16, labelpad = -2)\n",
    "plt.xticks([0, np.pi/2, np.pi, 3*np.pi/2, 2*np.pi], [r\"$0$\", r\"$\\pi/2$\", r\"$\\pi$\", r\"$3\\pi/2$\", r\"$2\\pi$\"])\n",
    "plt.ylabel(r\"$\\nu_y$\", fontsize = 16, labelpad = -3)\n",
    "plt.tight_layout()\n",
    "plt.show()"
   ]
  },
  {
   "cell_type": "code",
   "execution_count": null,
   "metadata": {},
   "outputs": [],
   "source": [
    "wb = np.zeros((Nx, 4)).astype(np.complex128)\n",
    "\n",
    "for i in range(Nx): \n",
    "    wb[i,:] = eigenstates[i,0,:,0] * nu_vecs_y[i,0,0] + eigenstates[i,0,:,1] * nu_vecs_y[i,1,0]"
   ]
  },
  {
   "cell_type": "code",
   "execution_count": null,
   "metadata": {},
   "outputs": [],
   "source": [
    "Nx2 = int(Nx/2)\n",
    "halfBZ_vecs = wb[:Nx2,:]\n",
    "\n",
    "W = 1 \n",
    "for i in range(Nx2):\n",
    "    ol = np.dot(halfBZ_vecs[(i+1)%Nx2,:].conj().T, halfBZ_vecs[i,:])\n",
    "    W *= ol / np.abs(ol)\n",
    "print(W)\n",
    "print(np.angle(W)/(2*np.pi))"
   ]
  },
  {
   "cell_type": "code",
   "execution_count": null,
   "metadata": {},
   "outputs": [],
   "source": []
  }
 ],
 "metadata": {
  "kernelspec": {
   "display_name": "base",
   "language": "python",
   "name": "python3"
  },
  "language_info": {
   "codemirror_mode": {
    "name": "ipython",
    "version": 3
   },
   "file_extension": ".py",
   "mimetype": "text/x-python",
   "name": "python",
   "nbconvert_exporter": "python",
   "pygments_lexer": "ipython3",
   "version": "3.13.2"
  }
 },
 "nbformat": 4,
 "nbformat_minor": 2
}
