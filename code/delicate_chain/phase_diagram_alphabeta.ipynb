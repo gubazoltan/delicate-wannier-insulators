{
 "cells": [
  {
   "cell_type": "code",
   "execution_count": null,
   "metadata": {},
   "outputs": [],
   "source": [
    "import sympy as sp\n",
    "import numpy as np\n",
    "import matplotlib.pyplot as plt"
   ]
  },
  {
   "cell_type": "code",
   "execution_count": null,
   "metadata": {},
   "outputs": [],
   "source": [
    "kx_sym = sp.symbols('k_x', real = True)\n",
    "alpha_sym = sp.symbols('alpha', real = True, positive = True)\n",
    "beta_sym = sp.symbols('beta', real = True, positive = True)"
   ]
  },
  {
   "cell_type": "code",
   "execution_count": null,
   "metadata": {},
   "outputs": [],
   "source": [
    "dvec = sp.Array([sp.sin(kx_sym) + alpha_sym * sp.sin(2*kx_sym), sp.cos(kx_sym) + beta_sym * sp.cos(2*kx_sym)])"
   ]
  },
  {
   "cell_type": "code",
   "execution_count": null,
   "metadata": {},
   "outputs": [],
   "source": [
    "alphas = np.linspace(-2, 2, 100)\n",
    "betas = np.linspace(-2, 2, 100)\n",
    "\n",
    "kxs = np.linspace(-np.pi, np.pi, 1000)\n",
    "data = np.zeros((len(alphas), len(betas)))\n",
    "dvec_func = sp.lambdify((alpha_sym, beta_sym, kx_sym), dvec, modules = 'numpy')\n",
    "\n",
    "for i, alpha in enumerate(alphas):\n",
    "    for j, beta in enumerate(betas):\n",
    "        data[i,j] = np.min(np.array([np.sqrt((np.sin(kx) + alpha * np.sin(2*kx))**2 + (np.cos(kx) + beta * np.cos(2*kx))**2)*2 for kx in kxs]))"
   ]
  },
  {
   "cell_type": "code",
   "execution_count": null,
   "metadata": {},
   "outputs": [],
   "source": [
    "ba = alphas/(1-2*(alphas**2))"
   ]
  },
  {
   "cell_type": "code",
   "execution_count": null,
   "metadata": {},
   "outputs": [],
   "source": [
    "aalphas = np.linspace(-2, 2, 1000)\n",
    "aalphas1 = np.linspace(-2, -1/2, 1000, endpoint = False)\n",
    "aalphas2 = np.linspace(1/2, 2, 1000, endpoint = False)\n",
    "bbetas = np.linspace(-2, 2, 1000)\n",
    "A, B = np.meshgrid(aalphas, bbetas)\n",
    "A1, B1 = np.meshgrid(aalphas1, bbetas)\n",
    "A2, B2 = np.meshgrid(aalphas2, bbetas)"
   ]
  },
  {
   "cell_type": "code",
   "execution_count": null,
   "metadata": {},
   "outputs": [],
   "source": [
    "Z1 = (B1 - A1 * (1 + 2 * A1 * B1))\n",
    "Z2 = (B2 - A2 * (1 + 2 * A2 * B2))"
   ]
  },
  {
   "cell_type": "code",
   "execution_count": null,
   "metadata": {},
   "outputs": [],
   "source": [
    "fig = plt.figure(figsize = (4,4))\n",
    "p1 = plt.imshow(data.T, origin = 'lower', extent = [alphas[0], alphas[-1], betas[0], betas[-1]], aspect = 1, vmin = 0, vmax = 2)\n",
    "#scale the size of the colorbar\n",
    "cbar = plt.colorbar(p1, fraction=0.046, pad=0.04)\n",
    "cbar.set_ticks([0,1,2])    \n",
    "cbar.set_ticklabels([r\"$0$\", r\"$1$\", r\"$2$\"], fontsize = 14)\n",
    "\n",
    "p2 = plt.contour(A1, B1, Z1, levels=[0], colors = 'red', alpha = 0.5)\n",
    "p2 = plt.contour(A2, B2, Z2, levels=[0], colors = 'red', alpha = 0.5)\n",
    "p3 = plt.contour(A, B, B-1, levels = [0.], colors = 'red', alpha = 0.5)\n",
    "p3 = plt.contour(A, B, B+1, levels = [0.], colors = 'red', alpha = 0.5)\n",
    "\n",
    "plt.xlabel(r'$\\alpha$', fontsize = 16, labelpad = -2)\n",
    "plt.ylabel(r'$\\beta$', fontsize = 16, labelpad = -10)\n",
    "plt.xticks([-2,-1,0,1,2], fontsize = 14)\n",
    "plt.yticks([-2,-1,0,1,2], fontsize = 14)\n",
    "plt.ylim(-2,2)\n",
    "\n",
    "plt.title(r\"$\\Delta E$\", fontsize = 16)\n",
    "plt.show()"
   ]
  },
  {
   "cell_type": "code",
   "execution_count": null,
   "metadata": {},
   "outputs": [],
   "source": [
    "fig = plt.figure(figsize = (4,4))\n",
    "\n",
    "p2 = plt.contour(A1, B1, Z1, levels=[0], colors = 'red', alpha = 0.5)\n",
    "p2 = plt.contour(A2, B2, Z2, levels=[0], colors = 'red', alpha = 0.5)\n",
    "p3 = plt.contour(A, B, B-1, levels = [0.], colors = 'red', alpha = 0.5)\n",
    "p3 = plt.contour(A, B, B+1, levels = [0.], colors = 'red', alpha = 0.5)\n",
    "\n",
    "fig.text(0.42, 0.5, r'$\\omega=+1$', fontsize=14)\n",
    "fig.text(0.79, 0.33, r'$-1$', fontsize=14)\n",
    "fig.text(0.95-0.79, 0.95-0.33, r'$-1$', fontsize=14)\n",
    "fig.text(0.48, 0.75, r'$0$', fontsize=14)\n",
    "fig.text(0.48, 0.2, r'$0$', fontsize=14)\n",
    "fig.text(0.95-0.79, 0.75, r'$-2$', fontsize=14)\n",
    "fig.text(0.79, 0.75, r'$+2$', fontsize=14)\n",
    "fig.text(0.79, 0.2, r'$-2$', fontsize=14)\n",
    "fig.text(0.95-0.79, 0.2, r'$+2$', fontsize=14)\n",
    "\n",
    "plt.xlabel(r'$\\alpha$', fontsize = 16, labelpad = -2)\n",
    "plt.ylabel(r'$\\beta$', fontsize = 16, labelpad = -10)\n",
    "plt.xticks([-2,-1,0,1,2], fontsize = 14)\n",
    "plt.yticks([-2,-1,0,1,2], fontsize = 14)\n",
    "plt.ylim(-2,2.00001)\n",
    "\n",
    "value = 2-1e-5\n",
    "plt.plot([0,2], [value,value], color = 'blue', linestyle = '-', linewidth = 10)\n",
    "plt.show()"
   ]
  },
  {
   "cell_type": "code",
   "execution_count": null,
   "metadata": {},
   "outputs": [],
   "source": []
  }
 ],
 "metadata": {
  "kernelspec": {
   "display_name": "base",
   "language": "python",
   "name": "python3"
  },
  "language_info": {
   "codemirror_mode": {
    "name": "ipython",
    "version": 3
   },
   "file_extension": ".py",
   "mimetype": "text/x-python",
   "name": "python",
   "nbconvert_exporter": "python",
   "pygments_lexer": "ipython3",
   "version": "3.13.2"
  }
 },
 "nbformat": 4,
 "nbformat_minor": 2
}
