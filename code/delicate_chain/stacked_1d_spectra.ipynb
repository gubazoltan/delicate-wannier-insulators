{
 "cells": [
  {
   "cell_type": "code",
   "execution_count": null,
   "metadata": {},
   "outputs": [],
   "source": [
    "import sympy as sp\n",
    "import numpy as np\n",
    "import matplotlib.pyplot as plt\n",
    "from sympy.physics.quantum import TensorProduct"
   ]
  },
  {
   "cell_type": "code",
   "execution_count": null,
   "metadata": {},
   "outputs": [],
   "source": [
    "def indf(i,j):\n",
    "    return i*Ny*Nbands + j*Nbands"
   ]
  },
  {
   "cell_type": "code",
   "execution_count": null,
   "metadata": {},
   "outputs": [],
   "source": [
    "def flake_geometry(h_symbolic, syms, Nx, Ny, Nbands):\n",
    "    kx_sym, ky_sym = syms \n",
    "    \n",
    "    Lx_nn_pos = sp.integrate(h_symbolic * sp.exp(sp.I * kx_sym * (-1.0)), (kx_sym, -sp.pi, sp.pi))/ (2 * sp.pi)\n",
    "    Lx_nn_neg = sp.integrate(h_symbolic * sp.exp(sp.I * kx_sym), (kx_sym, -sp.pi, sp.pi))/ (2 * sp.pi)\n",
    "    Lx_nnn_pos = sp.integrate(h_symbolic * sp.exp(sp.I * 2 * kx_sym * (-1.0)), (kx_sym, -sp.pi, sp.pi))/ (2 * sp.pi)\n",
    "    Lx_nnn_neg = sp.integrate(h_symbolic * sp.exp(sp.I * 2 * kx_sym), (kx_sym, -sp.pi, sp.pi))/ (2 * sp.pi)\n",
    "\n",
    "    Ly_nn_pos = sp.integrate(h_symbolic * sp.exp(sp.I * ky_sym * (-1.0)), (ky_sym, -sp.pi, sp.pi))/ (2 * sp.pi)\n",
    "    Ly_nn_neg = sp.integrate(h_symbolic * sp.exp(sp.I * ky_sym), (ky_sym, -sp.pi, sp.pi))/ (2 * sp.pi)\n",
    "    Ly_nnn_pos = sp.integrate(h_symbolic * sp.exp(sp.I * 2 * ky_sym * (-1.0)), (ky_sym, -sp.pi, sp.pi))/ (2 * sp.pi)\n",
    "    Ly_nnn_neg = sp.integrate(h_symbolic * sp.exp(sp.I * 2 * ky_sym), (ky_sym, -sp.pi, sp.pi))/ (2 * sp.pi)\n",
    "\n",
    "    Lx_nn_pos = Lx_nn_pos.rewrite(sp.cos).simplify()\n",
    "    Lx_nn_neg = Lx_nn_neg.rewrite(sp.cos).simplify()\n",
    "    Lx_nnn_pos = Lx_nnn_pos.rewrite(sp.cos).simplify()\n",
    "    Lx_nnn_neg = Lx_nnn_neg.rewrite(sp.cos).simplify()\n",
    "    Ly_nn_pos = Ly_nn_pos.rewrite(sp.cos).simplify()\n",
    "    Ly_nn_neg = Ly_nn_neg.rewrite(sp.cos).simplify()\n",
    "    Ly_nnn_pos = Ly_nnn_pos.rewrite(sp.cos).simplify()\n",
    "    Ly_nnn_neg = Ly_nnn_neg.rewrite(sp.cos).simplify()\n",
    "\n",
    "    H_diag = h_symbolic - (Lx_nn_pos * sp.exp(sp.I * kx_sym) + Lx_nn_neg * sp.exp(-sp.I * kx_sym) + Lx_nnn_pos * sp.exp(sp.I * 2 * kx_sym) + Lx_nnn_neg * sp.exp(-sp.I * 2 * kx_sym))\n",
    "    H_diag -= (Ly_nn_pos * sp.exp(sp.I * ky_sym) + Ly_nn_neg * sp.exp(-sp.I * ky_sym) + Ly_nnn_pos * sp.exp(sp.I * 2 * ky_sym) + Ly_nnn_neg * sp.exp(-sp.I * 2 * ky_sym))\n",
    "    H_diag = H_diag.rewrite(sp.cos).simplify()\n",
    "    H_diag = sp.nsimplify(H_diag, tolerance = 1e-8)\n",
    "\n",
    "    h = sp.zeros(Nx*Ny*Nbands, Nx*Ny*Nbands)\n",
    "\n",
    "    for i in range(Nx):\n",
    "        for j in range(Ny):\n",
    "            h[indf(i,j):indf(i,j+1),indf(i,j):indf(i,j+1)] = H_diag\n",
    "            \n",
    "            if i > 0: \n",
    "                h[indf(i-1,j):indf(i-1,j+1), indf(i,j):indf(i,j+1)] = Lx_nn_pos\n",
    "                \n",
    "            if i > 1:\n",
    "                h[indf(i-2,j):indf(i-2,j+1), indf(i,j):indf(i,j+1)] = Lx_nnn_pos\n",
    "\n",
    "            if i < Nx - 1:\n",
    "                h[indf(i+1,j):indf(i+1,j+1), indf(i,j):indf(i,j+1)] = Lx_nn_neg\n",
    "\n",
    "            if i < Nx - 2:\n",
    "                h[indf(i+2,j):indf(i+2,j+1), indf(i,j):indf(i,j+1)] = Lx_nnn_neg\n",
    "\n",
    "            if j > 0:\n",
    "                h[indf(i,j-1):indf(i,j), indf(i,j):indf(i,j+1)] = Ly_nn_pos\n",
    "\n",
    "            if j > 1:\n",
    "                h[indf(i,j-2):indf(i,j-1), indf(i,j):indf(i,j+1)] = Ly_nnn_pos\n",
    "\n",
    "            if j < Ny - 1:\n",
    "                h[indf(i,j+1):indf(i,j+2), indf(i,j):indf(i,j+1)] = Ly_nn_neg\n",
    "\n",
    "            if j < Ny - 2:\n",
    "                h[indf(i,j+2):indf(i,j+3), indf(i,j):indf(i,j+1)] = Ly_nnn_neg\n",
    "\n",
    "    flake_h = np.array(h).astype(np.complex128)\n",
    "\n",
    "    return flake_h"
   ]
  },
  {
   "cell_type": "code",
   "execution_count": null,
   "metadata": {},
   "outputs": [],
   "source": [
    "kx_sym, ky_sym = sp.symbols('k_x k_y', real = True)\n",
    "alpha_sym = sp.symbols('alpha', real = True, positive = True)\n",
    "beta_sym = sp.symbols('beta', real = True, positive = True)\n",
    "gamma_z, lambda_z = sp.symbols('gamma_z lambda_z', real = True)"
   ]
  },
  {
   "cell_type": "code",
   "execution_count": null,
   "metadata": {},
   "outputs": [],
   "source": [
    "s0 = sp.eye(2)\n",
    "sx = sp.Matrix([[0, 1], [1, 0]])\n",
    "sy = sp.Matrix([[0, -sp.I], [sp.I, 0]])\n",
    "sz = sp.Matrix([[1, 0], [0, -1]])"
   ]
  },
  {
   "cell_type": "code",
   "execution_count": null,
   "metadata": {},
   "outputs": [],
   "source": [
    "h_1d = (sp.sin(kx_sym) + alpha_sym * sp.sin(2*kx_sym)) * sx\n",
    "h_1d += (sp.cos(kx_sym) + beta_sym * sp.cos(2*kx_sym)) * sz"
   ]
  },
  {
   "cell_type": "code",
   "execution_count": null,
   "metadata": {},
   "outputs": [],
   "source": [
    "H_layered = sp.Matrix(np.zeros((4,4)))\n",
    "H_layered += TensorProduct(sz,h_1d)\n",
    "H_layered += TensorProduct(sy,s0) * lambda_z * sp.sin(ky_sym)\n",
    "H_layered += TensorProduct(sx,s0) * (gamma_z + lambda_z * sp.cos(ky_sym))"
   ]
  },
  {
   "cell_type": "code",
   "execution_count": null,
   "metadata": {},
   "outputs": [],
   "source": [
    "H_layered"
   ]
  },
  {
   "cell_type": "code",
   "execution_count": null,
   "metadata": {},
   "outputs": [],
   "source": [
    "Nx = 29\n",
    "Ny = 29\n",
    "Nbands = 4\n",
    "Nocc = 2\n",
    "\n",
    "params = {}\n",
    "params[\"Nx\"] = Nx\n",
    "params[\"Ny\"] = Ny\n",
    "params[\"Nbands\"] = Nbands\n",
    "params[\"Nocc\"] = Nocc"
   ]
  },
  {
   "cell_type": "code",
   "execution_count": null,
   "metadata": {},
   "outputs": [],
   "source": [
    "H_hodti_fixalpha = H_layered.subs({alpha_sym : 2.0, beta_sym: 2., gamma_z: 0.5, lambda_z: 1})"
   ]
  },
  {
   "cell_type": "code",
   "execution_count": null,
   "metadata": {},
   "outputs": [],
   "source": [
    "flake_h = flake_geometry(H_hodti_fixalpha, (kx_sym, ky_sym), Nx, Ny, Nbands)"
   ]
  },
  {
   "cell_type": "code",
   "execution_count": null,
   "metadata": {},
   "outputs": [],
   "source": [
    "vals, vecs = np.linalg.eigh(flake_h)"
   ]
  },
  {
   "cell_type": "code",
   "execution_count": null,
   "metadata": {},
   "outputs": [],
   "source": [
    "ind = np.argsort(vals)\n",
    "vals = vals[ind]\n",
    "vecs = vecs[:,ind]"
   ]
  },
  {
   "cell_type": "code",
   "execution_count": null,
   "metadata": {},
   "outputs": [],
   "source": [
    "plot_data = vals\n",
    "\n",
    "fig = plt.figure(figsize = (4,3))\n",
    "plt.scatter(np.arange(len(plot_data)), plot_data, c = \"black\", s = 10)\n",
    "plt.xlabel(\"Eigenvalue index\", fontsize = 16)\n",
    "plt.ylabel(r\"$E$\", fontsize = 16, labelpad = -4)\n",
    "\n",
    "plt.yticks([-3,0,3], [\"-3\", \"0\", \"3\"], fontsize = 14)\n",
    "plt.xticks([0,1000,2000,3000], [\"0\", \"1000\", \"2000\", \"3000\"], fontsize = 14)\n",
    "plt.show()"
   ]
  },
  {
   "cell_type": "code",
   "execution_count": null,
   "metadata": {},
   "outputs": [],
   "source": [
    "mask = abs(vals) < 1e-1 * 5.2\n",
    "plot_data = vals[mask]\n",
    "plot_x = np.arange(len(vals))[mask]\n",
    "\n",
    "fig = plt.figure(figsize = (1.5,1.5))\n",
    "plt.scatter(plot_x, plot_data, c = \"black\", s = 10, alpha = 1)\n",
    "plt.yticks(fontsize = 14)\n",
    "plt.xticks(fontsize = 14)\n",
    "plt.xticks([1682], [\"1682\"], fontsize = 14)\n",
    "plt.show()"
   ]
  },
  {
   "cell_type": "code",
   "execution_count": null,
   "metadata": {},
   "outputs": [],
   "source": [
    "density = np.zeros((Nx,Ny))\n",
    "\n",
    "for state_index in range(Nx*Ny*2-4, Nx*Ny*2+4):\n",
    "    for i in range(Nx):\n",
    "        for j in range(Ny):\n",
    "            density[i,j] += np.sum(np.abs(vecs[indf(i,j):indf(i,j+1),state_index])**2)\n",
    "\n",
    "fig = plt.figure(figsize = (4,3))\n",
    "\n",
    "plt.imshow(density.T, vmin = 0, vmax=1, origin = \"lower\")\n",
    "\n",
    "plt.xticks(np.arange(Nx)[::7], fontsize = 14)\n",
    "plt.yticks(np.arange(Ny)[::7], fontsize = 14)\n",
    "plt.xlabel(r\"$x$\", fontsize = 16, labelpad = -1) \n",
    "plt.ylabel(r\"$y$\", fontsize = 16, labelpad = -0)\n",
    "cbar = plt.colorbar()\n",
    "cbar.set_ticks([0,0.5,1])    \n",
    "cbar.set_ticklabels([r\"$0$\", r\"$0.5$\", r\"$1$\"], fontsize = 14)\n",
    "\n",
    "plt.title(r\"$\\rho$\", fontsize = 16, pad = 0.5)\n",
    "plt.show()"
   ]
  },
  {
   "cell_type": "code",
   "execution_count": null,
   "metadata": {},
   "outputs": [],
   "source": [
    "#the number of states in the plot is \n",
    "np.sum(density)"
   ]
  },
  {
   "cell_type": "code",
   "execution_count": null,
   "metadata": {},
   "outputs": [],
   "source": []
  }
 ],
 "metadata": {
  "kernelspec": {
   "display_name": "base",
   "language": "python",
   "name": "python3"
  },
  "language_info": {
   "codemirror_mode": {
    "name": "ipython",
    "version": 3
   },
   "file_extension": ".py",
   "mimetype": "text/x-python",
   "name": "python",
   "nbconvert_exporter": "python",
   "pygments_lexer": "ipython3",
   "version": "3.13.2"
  }
 },
 "nbformat": 4,
 "nbformat_minor": 2
}
