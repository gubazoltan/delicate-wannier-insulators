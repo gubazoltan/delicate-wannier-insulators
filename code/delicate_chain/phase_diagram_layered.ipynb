{
 "cells": [
  {
   "cell_type": "code",
   "execution_count": null,
   "id": "598d867e",
   "metadata": {},
   "outputs": [],
   "source": [
    "import numpy as np\n",
    "import matplotlib.pyplot as plt\n",
    "from mpl_toolkits.axes_grid1 import make_axes_locatable"
   ]
  },
  {
   "cell_type": "code",
   "execution_count": null,
   "id": "ffe8d11e",
   "metadata": {},
   "outputs": [],
   "source": [
    "Nx = 100\n",
    "Ny = 100\n",
    "Ncoupling = 41\n",
    "Nalpha = 41\n",
    "\n",
    "alpha_crit = (np.sqrt(33)-1)/8 \n",
    "\n",
    "alphas = np.linspace(0.5, 1.5, Nalpha)"
   ]
  },
  {
   "cell_type": "code",
   "execution_count": null,
   "id": "64a1ac04",
   "metadata": {},
   "outputs": [],
   "source": [
    "data = np.zeros((Nalpha, Ncoupling, 9))"
   ]
  },
  {
   "cell_type": "code",
   "execution_count": null,
   "id": "8b8d33b4",
   "metadata": {},
   "outputs": [],
   "source": [
    "for idx, alpha in enumerate(alphas):\n",
    "    filename = f\"./phasediagdata/pd_{alpha:.6f}_{Ncoupling}_{Nx}_{Ny}.txt\"\n",
    "    f = np.loadtxt(filename)\n",
    "    for j in range(Ncoupling):\n",
    "        data[idx,j,:9] = f[j,:]"
   ]
  },
  {
   "cell_type": "code",
   "execution_count": null,
   "id": "adad6e1d",
   "metadata": {},
   "outputs": [],
   "source": [
    "fig, axs = plt.subplots(2, 2, figsize = (8, 8))\n",
    "plt.subplots_adjust(wspace=0.4, hspace=0.0)\n",
    "\n",
    "#first row\n",
    "plot00 = axs[0,0].imshow(data[:,:,3], origin = 'lower', aspect = 'equal', vmin = 0, extent = [0.5, 1.5, alphas[0], alphas[-1]])\n",
    "divider = make_axes_locatable(axs[0,0])\n",
    "cax = divider.append_axes(\"right\", size=\"5%\", pad=0.05)\n",
    "cb00 = fig.colorbar(plot00, cax=cax)\n",
    "cb00.set_ticks(ticks = [0,0.5, 1], labels = [0, 0.5, 1], fontsize = 14)\n",
    "axs[0,0].set_title(r\"$\\Delta E^x_{\\mathrm{edge}}$\", fontsize = 16)\n",
    "\n",
    "plot01 = axs[0,1].imshow(data[:,:,6], origin = 'lower', aspect = 'equal', vmin = 0, vmax = 1, extent = [0.5, 1.5, alphas[0], alphas[-1]])\n",
    "divider = make_axes_locatable(axs[0,1])\n",
    "cax = divider.append_axes(\"right\", size=\"5%\", pad=0.05)\n",
    "cb01 = fig.colorbar(plot01, cax=cax)\n",
    "cb01.set_ticks(ticks = [0,0.5, 1], labels = [0, 0.5, 1], fontsize = 14)\n",
    "axs[0,1].set_title(r\"$\\Delta \\nu^x_{1/2}$\", fontsize = 16)\n",
    "\n",
    "#second row\n",
    "plot10 = axs[1,0].imshow(data[:,:,4], origin = 'lower', aspect = 'equal', vmin = 0, extent = [0.5, 1.5, alphas[0], alphas[-1]])\n",
    "divider = make_axes_locatable(axs[1,0])\n",
    "cax = divider.append_axes(\"right\", size=\"5%\", pad=0.05)\n",
    "cb10 = fig.colorbar(plot10, cax=cax)\n",
    "cb10.set_ticks(ticks = [0,0.5, 1], labels = [0, 0.5, 1], fontsize = 14)\n",
    "axs[1,0].set_title(r\"$\\Delta E^y_{\\mathrm{edge}}$\", fontsize = 16)\n",
    "\n",
    "plot11 = axs[1,1].imshow(data[:,:,8], origin = 'lower', aspect = 'equal', vmin = 0, vmax = 1, extent = [0.5, 1.5, alphas[0], alphas[-1]])\n",
    "divider = make_axes_locatable(axs[1,1])\n",
    "cax = divider.append_axes(\"right\", size=\"5%\", pad=0.05)\n",
    "cb11 = fig.colorbar(plot11, cax=cax)\n",
    "cb11.set_ticks(ticks = [0,0.5, 1], labels = [0, 0.5, 1], fontsize = 14)\n",
    "axs[1,1].set_title(r\"$\\Delta \\nu^y_{1/2}$\", fontsize = 16)\n",
    "\n",
    "for j in range(2):        \n",
    "    axs[j,0].set_ylabel(r'$\\alpha / \\alpha_c$', fontsize = 16)\n",
    "\n",
    "for i in range(2): \n",
    "    axs[1,i].set_xlabel(r'$\\gamma_{\\mathrm{-tra}} / \\lambda_{\\mathrm{-ter}}$', fontsize = 16)\n",
    "\n",
    "for i in range(2):\n",
    "    for j in range(2):\n",
    "        axs[i,j].set_xticks(np.arange(0.5, 1.51, 0.5))\n",
    "        axs[i,j].set_yticks(np.arange(0.5, 1.51, 0.5))\n",
    "        axs[i,j].set_xticklabels([r\"$0.5$\", r\"$1.0$\", r\"$1.5$\"], fontsize = 14)\n",
    "        axs[i,j].set_yticklabels([r\"$0.5$\", r\"$1.0$\", r\"$1.5$\"], fontsize = 14)\n",
    "\n",
    "plt.show()"
   ]
  },
  {
   "cell_type": "code",
   "execution_count": null,
   "id": "27f19015",
   "metadata": {},
   "outputs": [],
   "source": []
  }
 ],
 "metadata": {
  "kernelspec": {
   "display_name": "base",
   "language": "python",
   "name": "python3"
  },
  "language_info": {
   "codemirror_mode": {
    "name": "ipython",
    "version": 3
   },
   "file_extension": ".py",
   "mimetype": "text/x-python",
   "name": "python",
   "nbconvert_exporter": "python",
   "pygments_lexer": "ipython3",
   "version": "3.12.0"
  }
 },
 "nbformat": 4,
 "nbformat_minor": 5
}
