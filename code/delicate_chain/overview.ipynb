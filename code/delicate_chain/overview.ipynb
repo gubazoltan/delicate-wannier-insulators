{
 "cells": [
  {
   "cell_type": "code",
   "execution_count": null,
   "metadata": {},
   "outputs": [],
   "source": [
    "import sympy as sp\n",
    "import numpy as np\n",
    "import matplotlib.pyplot as plt"
   ]
  },
  {
   "cell_type": "code",
   "execution_count": null,
   "metadata": {},
   "outputs": [],
   "source": [
    "def open_boundary(h_symbolic, kx_sym, Nx, Nbands):\n",
    "    Lx_nn_pos = sp.integrate(h_symbolic * sp.exp(sp.I * kx_sym * (-1.0)), (kx_sym, -sp.pi, sp.pi))/ (2 * sp.pi)\n",
    "    Lx_nn_neg = sp.integrate(h_symbolic * sp.exp(sp.I * kx_sym), (kx_sym, -sp.pi, sp.pi))/ (2 * sp.pi)\n",
    "    Lx_nnn_pos = sp.integrate(h_symbolic * sp.exp(sp.I * 2 * kx_sym * (-1.0)), (kx_sym, -sp.pi, sp.pi))/ (2 * sp.pi)\n",
    "    Lx_nnn_neg = sp.integrate(h_symbolic * sp.exp(sp.I * 2 * kx_sym), (kx_sym, -sp.pi, sp.pi))/ (2 * sp.pi)\n",
    "\n",
    "    Lx_nn_pos = Lx_nn_pos.rewrite(sp.cos).simplify()\n",
    "    Lx_nn_neg = Lx_nn_neg.rewrite(sp.cos).simplify()\n",
    "    Lx_nnn_pos = Lx_nnn_pos.rewrite(sp.cos).simplify()\n",
    "    Lx_nnn_neg = Lx_nnn_neg.rewrite(sp.cos).simplify()\n",
    "\n",
    "    H_diag = h_symbolic - (Lx_nn_pos * sp.exp(sp.I * kx_sym) + Lx_nn_neg * sp.exp(-sp.I * kx_sym) + Lx_nnn_pos * sp.exp(sp.I * 2 * kx_sym) + Lx_nnn_neg * sp.exp(-sp.I * 2 * kx_sym))\n",
    "    H_diag = H_diag.rewrite(sp.cos).simplify()\n",
    "    H_diag = sp.nsimplify(H_diag, tolerance = 1e-8)\n",
    "\n",
    "    h = sp.zeros(Nx*Nbands, Nx*Nbands)\n",
    "\n",
    "    for i in range(Nx):\n",
    "        h[i*Nbands:(i+1)*Nbands, i*Nbands:(i+1)*Nbands] = H_diag[:,:]\n",
    "\n",
    "        if i > 0: \n",
    "            h[(i-1)*Nbands:i*Nbands, i*Nbands:(i+1)*Nbands] = Lx_nn_pos[:,:]\n",
    "\n",
    "        if i > 1:\n",
    "            h[(i-2)*Nbands:(i-1)*Nbands, i*Nbands:(i+1)*Nbands] = Lx_nnn_pos[:,:]\n",
    "\n",
    "        if i < Nx - 1:\n",
    "            h[(i+1)*Nbands:(i+2)*Nbands, i*Nbands:(i+1)*Nbands] = Lx_nn_neg[:,:]\n",
    "\n",
    "        if i < Nx - 2:\n",
    "            h[(i+2)*Nbands:(i+3)*Nbands, i*Nbands:(i+1)*Nbands] = Lx_nnn_neg[:,:]\n",
    "    \n",
    "    slab_h = np.array(h).astype(np.complex128)\n",
    "\n",
    "    return slab_h"
   ]
  },
  {
   "cell_type": "code",
   "execution_count": null,
   "metadata": {},
   "outputs": [],
   "source": [
    "kx_sym = sp.symbols('k_x', real = True)\n",
    "alpha_sym = sp.symbols('alpha', real = True, positive = True)"
   ]
  },
  {
   "cell_type": "code",
   "execution_count": null,
   "metadata": {},
   "outputs": [],
   "source": [
    "s0 = sp.eye(2)\n",
    "sx = sp.Matrix([[0, 1], [1, 0]])\n",
    "sy = sp.Matrix([[0, -sp.I], [sp.I, 0]])\n",
    "sz = sp.Matrix([[1, 0], [0, -1]])\n",
    "\n",
    "PauliList = [s0, sx, sy, sz] "
   ]
  },
  {
   "cell_type": "code",
   "execution_count": null,
   "metadata": {},
   "outputs": [],
   "source": [
    "h_1d = (sp.sin(kx_sym) + alpha_sym * sp.sin(2*kx_sym)) * sx\n",
    "h_1d += (sp.cos(kx_sym) + 2 * sp.cos(2*kx_sym)) * sz\n",
    "h_1d"
   ]
  },
  {
   "cell_type": "code",
   "execution_count": null,
   "metadata": {},
   "outputs": [],
   "source": [
    "Nx = 100\n",
    "Nbands = 2\n",
    "\n",
    "params = {}\n",
    "params[\"Nx\"] = Nx\n",
    "params[\"Nbands\"] = Nbands"
   ]
  },
  {
   "cell_type": "code",
   "execution_count": null,
   "metadata": {},
   "outputs": [],
   "source": [
    "H_fixparam = h_1d.subs({alpha_sym : 2.})\n",
    "hfunc = sp.lambdify((kx_sym), H_fixparam, modules = \"numpy\")"
   ]
  },
  {
   "cell_type": "code",
   "execution_count": null,
   "metadata": {},
   "outputs": [],
   "source": [
    "Kxs = np.linspace(0, 2*np.pi, Nx, endpoint = False)"
   ]
  },
  {
   "cell_type": "code",
   "execution_count": null,
   "metadata": {},
   "outputs": [],
   "source": [
    "eigenvalues = np.zeros((Nx, Nbands))\n",
    "eigenvectors = np.zeros((Nx, Nbands, Nbands), dtype = np.complex128)\n",
    "\n",
    "for i, kx in enumerate(Kxs):\n",
    "    values, vectors = np.linalg.eigh(hfunc(kx))\n",
    "    ind = np.argsort(values)\n",
    "    eigenvalues[i,:] = values[ind]\n",
    "    eigenvectors[i,:,:] = vectors[:, ind]"
   ]
  },
  {
   "cell_type": "code",
   "execution_count": null,
   "metadata": {},
   "outputs": [],
   "source": [
    "Nx2 = int(Nx/2)\n",
    "halfBZ_vecs = eigenvectors[:Nx2,:,0]\n",
    "\n",
    "W = 1 \n",
    "for i in range(Nx2):\n",
    "    ol = np.dot(halfBZ_vecs[(i+1)%Nx2,:], halfBZ_vecs[i,:])\n",
    "    W *= ol / np.abs(ol)\n",
    "print(W)\n",
    "print(np.angle(W)/(2*np.pi))"
   ]
  },
  {
   "cell_type": "code",
   "execution_count": null,
   "metadata": {},
   "outputs": [],
   "source": [
    "slab_h = open_boundary(H_fixparam, kx_sym, Nx, Nbands)"
   ]
  },
  {
   "cell_type": "code",
   "execution_count": null,
   "metadata": {},
   "outputs": [],
   "source": [
    "eigenvalues, eigenstates = np.linalg.eigh(slab_h)\n",
    "ind = np.argsort(eigenvalues)\n",
    "eigenvalues = eigenvalues[ind]\n",
    "eigenstates = eigenstates[:, ind]"
   ]
  },
  {
   "cell_type": "code",
   "execution_count": null,
   "metadata": {},
   "outputs": [],
   "source": [
    "plot_data = eigenvalues\n",
    "\n",
    "fig = plt.figure(figsize = (4,3))\n",
    "plt.scatter(np.arange(len(plot_data)), plot_data, c = \"black\", s = 10)\n",
    "plt.xlabel(\"Eigenvalue index\", fontsize = 16)\n",
    "plt.ylabel(r\"$E$\", fontsize = 16, labelpad = -4)\n",
    "plt.yticks([-3,0,3], [\"-3\", \"0\", \"3\"], fontsize = 14)\n",
    "plt.xticks([0,100,200], [\"0\", \"100\", \"200\"], fontsize = 14)\n",
    "plt.show()"
   ]
  },
  {
   "cell_type": "code",
   "execution_count": null,
   "metadata": {},
   "outputs": [],
   "source": [
    "mask = abs(eigenvalues) < 1e-0 * 1.03\n",
    "plot_data = eigenvalues[mask]\n",
    "plot_x = np.arange(len(eigenvalues))[mask]\n",
    "\n",
    "fig = plt.figure(figsize = (1.5,1.5))\n",
    "plt.scatter(plot_x, plot_data, c = \"black\", s = 10, alpha = 1)\n",
    "plt.yticks(fontsize = 14)\n",
    "plt.xticks(fontsize = 14)\n",
    "plt.show()"
   ]
  },
  {
   "cell_type": "code",
   "execution_count": null,
   "metadata": {},
   "outputs": [],
   "source": []
  }
 ],
 "metadata": {
  "kernelspec": {
   "display_name": "Python 3",
   "language": "python",
   "name": "python3"
  },
  "language_info": {
   "codemirror_mode": {
    "name": "ipython",
    "version": 3
   },
   "file_extension": ".py",
   "mimetype": "text/x-python",
   "name": "python",
   "nbconvert_exporter": "python",
   "pygments_lexer": "ipython3",
   "version": "3.13.2"
  }
 },
 "nbformat": 4,
 "nbformat_minor": 2
}
